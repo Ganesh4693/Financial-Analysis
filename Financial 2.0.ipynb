{
 "cells": [
  {
   "cell_type": "markdown",
   "id": "043af6fb",
   "metadata": {},
   "source": [
    "## Importing Libraries"
   ]
  },
  {
   "cell_type": "code",
   "execution_count": 87,
   "id": "19b3a783",
   "metadata": {},
   "outputs": [
    {
     "data": {
      "text/html": [
       "        <script type=\"text/javascript\">\n",
       "        window.PlotlyConfig = {MathJaxConfig: 'local'};\n",
       "        if (window.MathJax && window.MathJax.Hub && window.MathJax.Hub.Config) {window.MathJax.Hub.Config({SVG: {font: \"STIX-Web\"}});}\n",
       "        if (typeof require !== 'undefined') {\n",
       "        require.undef(\"plotly\");\n",
       "        requirejs.config({\n",
       "            paths: {\n",
       "                'plotly': ['https://cdn.plot.ly/plotly-2.12.1.min']\n",
       "            }\n",
       "        });\n",
       "        require(['plotly'], function(Plotly) {\n",
       "            window._Plotly = Plotly;\n",
       "        });\n",
       "        }\n",
       "        </script>\n",
       "        "
      ]
     },
     "metadata": {},
     "output_type": "display_data"
    },
    {
     "data": {
      "text/html": [
       "        <script type=\"text/javascript\">\n",
       "        window.PlotlyConfig = {MathJaxConfig: 'local'};\n",
       "        if (window.MathJax && window.MathJax.Hub && window.MathJax.Hub.Config) {window.MathJax.Hub.Config({SVG: {font: \"STIX-Web\"}});}\n",
       "        if (typeof require !== 'undefined') {\n",
       "        require.undef(\"plotly\");\n",
       "        requirejs.config({\n",
       "            paths: {\n",
       "                'plotly': ['https://cdn.plot.ly/plotly-2.12.1.min']\n",
       "            }\n",
       "        });\n",
       "        require(['plotly'], function(Plotly) {\n",
       "            window._Plotly = Plotly;\n",
       "        });\n",
       "        }\n",
       "        </script>\n",
       "        "
      ]
     },
     "metadata": {},
     "output_type": "display_data"
    }
   ],
   "source": [
    "import pandas as pd\n",
    "import numpy as np\n",
    "from tabula import read_pdf\n",
    "import matplotlib.pyplot as plt\n",
    "import seaborn as sns\n",
    "from plotly.offline import download_plotlyjs,init_notebook_mode,plot,iplot\n",
    "init_notebook_mode(connected=True)\n",
    "import cufflinks as cf\n",
    "cf.go_offline()\n",
    "import re\n",
    "import datetime"
   ]
  },
  {
   "cell_type": "markdown",
   "id": "e0d4ad50",
   "metadata": {},
   "source": [
    "## Reading data"
   ]
  },
  {
   "cell_type": "code",
   "execution_count": 88,
   "id": "10fb58fc",
   "metadata": {},
   "outputs": [],
   "source": [
    "hdfc=pd.read_excel('HDFC-15-Aug-21--23-May-22new.xls')\n",
    "\n",
    "idb=read_pdf('IDBI-15-Aug-21--23-May-22.pdf',output_format='dataframe',pages='all')\n",
    "idbi=pd.DataFrame(idb[0])\n",
    "\n",
    "canara=pd.read_csv('Canara-15-Aug-21--23-May-22new.CSV')\n",
    "\n",
    "sbi=pd.read_excel('SBI-15-Aug-21--23-May-23new.xlsx')"
   ]
  },
  {
   "cell_type": "markdown",
   "id": "da0afaf3",
   "metadata": {},
   "source": [
    "## Preprocessing Data"
   ]
  },
  {
   "cell_type": "code",
   "execution_count": 89,
   "id": "e8170db4",
   "metadata": {},
   "outputs": [],
   "source": [
    "hdfc.drop(['Value Dt','Chq./Ref.No.'],axis=1,inplace=True)"
   ]
  },
  {
   "cell_type": "code",
   "execution_count": 90,
   "id": "05564617",
   "metadata": {},
   "outputs": [],
   "source": [
    "hdfc.rename(columns={'Narration':'Desc','Withdrawal Amt.':'Debit',\n",
    "                     'Deposit Amt.':'Credit','Closing Balance':'Balance'},inplace=True)\n",
    "hdfc['Bank']='HDFC'"
   ]
  },
  {
   "cell_type": "code",
   "execution_count": 91,
   "id": "f3e231ec",
   "metadata": {},
   "outputs": [],
   "source": [
    "idbi.rename(columns={'Unnamed: 1':'Date','Unnamed: 3':'Desc',\n",
    "                     'Unnamed: 6':'Cr/Dr','Unnamed: 8':'Amount',\n",
    "                     'Unnamed: 9':'Balance'},inplace=True)"
   ]
  },
  {
   "cell_type": "code",
   "execution_count": 92,
   "id": "402d1409",
   "metadata": {},
   "outputs": [],
   "source": [
    "idbi.drop(['Unnamed: 0','Unnamed: 2','Unnamed: 4','Cheque','CC'],axis=1,inplace=True)\n",
    "idbi['Bank']='IDBI'"
   ]
  },
  {
   "cell_type": "code",
   "execution_count": 93,
   "id": "ff0ac369",
   "metadata": {},
   "outputs": [],
   "source": [
    "canara.rename(columns={'Transaction Date':'Date','Description':'Desc','Balance\\t':'Balance'},inplace=True)"
   ]
  },
  {
   "cell_type": "code",
   "execution_count": 94,
   "id": "e68c50ef",
   "metadata": {},
   "outputs": [],
   "source": [
    "canara.drop(['Value Date','Cheque No.','Branch Code'],axis=1,inplace=True)\n",
    "canara['Bank']='CANARA'"
   ]
  },
  {
   "cell_type": "code",
   "execution_count": 95,
   "id": "ba12cd5e",
   "metadata": {},
   "outputs": [],
   "source": [
    "sbi.rename(columns={'Txn Date':'Date','Description':'Desc','        Debit':'Debit'},inplace=True)"
   ]
  },
  {
   "cell_type": "code",
   "execution_count": 96,
   "id": "9c8f1213",
   "metadata": {},
   "outputs": [],
   "source": [
    "sbi.drop(['Value Date','Ref No./Cheque No.'],axis=1,inplace=True)\n",
    "sbi['Bank']='SBI'"
   ]
  },
  {
   "cell_type": "code",
   "execution_count": 97,
   "id": "72e34567",
   "metadata": {},
   "outputs": [],
   "source": [
    "a=0\n",
    "\n",
    "for a in range(len(sbi.index)):\n",
    "    date=sbi['Date'].iloc[a]\n",
    "    if type(date) in [float,str]:\n",
    "        break\n",
    "    else:\n",
    "        sbi['Date'].iloc[a]=date.strftime(\"%d-%m-%y\")\n",
    "    a+=1"
   ]
  },
  {
   "cell_type": "code",
   "execution_count": 98,
   "id": "277d5c33",
   "metadata": {},
   "outputs": [],
   "source": [
    "Banks=pd.concat([hdfc,canara,sbi])"
   ]
  },
  {
   "cell_type": "markdown",
   "id": "820282df",
   "metadata": {},
   "source": [
    "### Data Cleaning"
   ]
  },
  {
   "cell_type": "code",
   "execution_count": 99,
   "id": "b1eae37b",
   "metadata": {},
   "outputs": [],
   "source": [
    "def rem_comma(word):\n",
    "    if type(word)==str:\n",
    "        i=0\n",
    "        string=\"\"\n",
    "        while i<len(word):\n",
    "            if word[i]!=',':\n",
    "                string+=word[i]\n",
    "            i=i+1\n",
    "        return(string)\n",
    "    if type(word) in (float,int):\n",
    "        return word\n",
    "    else:\n",
    "        return float(\"nan\") "
   ]
  },
  {
   "cell_type": "code",
   "execution_count": 100,
   "id": "f0c0cec3",
   "metadata": {},
   "outputs": [],
   "source": [
    "Banks['Debit']=Banks['Debit'].apply(rem_comma)\n",
    "Banks['Credit']=Banks['Credit'].apply(rem_comma)\n",
    "Banks['Balance']=Banks['Balance'].apply(rem_comma)\n",
    "idbi['Balance']=idbi['Balance'].apply(rem_comma)\n",
    "idbi['Amount']=idbi['Amount'].apply(rem_comma)\n"
   ]
  },
  {
   "cell_type": "code",
   "execution_count": 101,
   "id": "c0838b49",
   "metadata": {},
   "outputs": [],
   "source": [
    "def conv_num(word):\n",
    "    if type(word)==str:\n",
    "        if word[0] in '1 2 3 4 5 6 7 8 9 0 -'.split():\n",
    "            return float(word)\n",
    "        else:\n",
    "            return np.nan\n",
    "    else:\n",
    "        return word"
   ]
  },
  {
   "cell_type": "code",
   "execution_count": 102,
   "id": "31b8bc91",
   "metadata": {},
   "outputs": [],
   "source": [
    "idbi['Amount']=idbi['Amount'].apply(conv_num)\n",
    "idbi['Balance']=idbi['Balance'].apply(conv_num)\n",
    "Banks['Balance']=Banks['Balance'].apply(conv_num)\n",
    "Banks['Credit']=Banks['Credit'].apply(conv_num)\n",
    "Banks['Debit']=Banks['Debit'].apply(conv_num)"
   ]
  },
  {
   "cell_type": "code",
   "execution_count": 103,
   "id": "c2c6c916",
   "metadata": {},
   "outputs": [],
   "source": [
    "idbi=idbi[idbi['Balance'].notna()]\n",
    "Banks=Banks[Banks['Balance'].notna()]\n",
    "Banks=Banks[Banks['Desc'].notnull()]"
   ]
  },
  {
   "cell_type": "code",
   "execution_count": 104,
   "id": "f553844a",
   "metadata": {},
   "outputs": [],
   "source": [
    "Banks.reset_index(inplace=True,drop=True)"
   ]
  },
  {
   "cell_type": "markdown",
   "id": "d7af1191",
   "metadata": {},
   "source": [
    "### Converting 'Debit' and 'Credit' column into 'Amount' column"
   ]
  },
  {
   "cell_type": "code",
   "execution_count": 105,
   "id": "c7a14176",
   "metadata": {},
   "outputs": [],
   "source": [
    "Banks['Amount']=np.nan\n",
    "a=0\n",
    "\n",
    "for a in range(Banks['Date'].count()):\n",
    "    deb=Banks['Debit'].iloc[a]\n",
    "    cred=Banks['Credit'].iloc[a]\n",
    "    if pd.notna(deb):\n",
    "        Banks['Amount'].iloc[a]=deb*(-1)\n",
    "    else:\n",
    "        Banks['Amount'].iloc[a]=cred\n",
    "    a+=1"
   ]
  },
  {
   "cell_type": "code",
   "execution_count": 106,
   "id": "c69bb8f4",
   "metadata": {},
   "outputs": [],
   "source": [
    "Banks.drop(['Debit','Credit'],axis=1,inplace=True)"
   ]
  },
  {
   "cell_type": "code",
   "execution_count": 107,
   "id": "ee5e7ea7",
   "metadata": {},
   "outputs": [],
   "source": [
    "cols=['Date','Desc','Amount','Balance','Bank']\n",
    "Banks=Banks[cols]"
   ]
  },
  {
   "cell_type": "code",
   "execution_count": 108,
   "id": "1132d7ee",
   "metadata": {},
   "outputs": [],
   "source": [
    "idbi.reset_index(inplace=True,drop=True)"
   ]
  },
  {
   "cell_type": "code",
   "execution_count": 109,
   "id": "9b3817a6",
   "metadata": {},
   "outputs": [],
   "source": [
    "a=0\n",
    "for a in range(idbi['Date'].count()):\n",
    "    b=idbi['Cr/Dr'].iloc[a]\n",
    "    if b=='Dr.':\n",
    "        idbi['Amount'].iloc[a]*=(-1)\n",
    "    a+=1"
   ]
  },
  {
   "cell_type": "code",
   "execution_count": 110,
   "id": "f356cd26",
   "metadata": {},
   "outputs": [],
   "source": [
    "idbi.drop('Cr/Dr',axis=1,inplace=True)"
   ]
  },
  {
   "cell_type": "code",
   "execution_count": 111,
   "id": "d86e72be",
   "metadata": {},
   "outputs": [],
   "source": [
    "Banks=pd.concat([Banks,idbi])"
   ]
  },
  {
   "cell_type": "code",
   "execution_count": 112,
   "id": "a1138f72",
   "metadata": {},
   "outputs": [],
   "source": [
    "Banks.reset_index(inplace=True, drop =True)"
   ]
  },
  {
   "cell_type": "code",
   "execution_count": 113,
   "id": "604a48e3",
   "metadata": {},
   "outputs": [],
   "source": [
    "\"\"\"To remove time from idbi transactions for Uniformity\"\"\"\n",
    "a=0\n",
    "\n",
    "for a in range(Banks['Date'].count()):\n",
    "    date=Banks['Date'].iloc[a].split()\n",
    "    if len(b)>1:\n",
    "        Banks['Date'].iloc[a]=date[0]\n",
    "    a+=1"
   ]
  },
  {
   "cell_type": "markdown",
   "id": "cd4ba67d",
   "metadata": {},
   "source": [
    "### Sorting by Date"
   ]
  },
  {
   "cell_type": "code",
   "execution_count": 114,
   "id": "413fe8a7",
   "metadata": {},
   "outputs": [],
   "source": [
    "Banks['Date']=pd.to_datetime(Banks['Date'],dayfirst=True)"
   ]
  },
  {
   "cell_type": "code",
   "execution_count": 115,
   "id": "4581aea0",
   "metadata": {},
   "outputs": [],
   "source": [
    "Banks.sort_values(by='Date',inplace=True)\n",
    "Banks.reset_index(inplace=True,drop=True)"
   ]
  },
  {
   "cell_type": "markdown",
   "id": "937dc28f",
   "metadata": {},
   "source": [
    "## Data Engineering"
   ]
  },
  {
   "cell_type": "markdown",
   "id": "2e49d3eb",
   "metadata": {},
   "source": [
    "### Finding \"Person of Interest\"(POI)"
   ]
  },
  {
   "cell_type": "code",
   "execution_count": 116,
   "id": "1bd05d65",
   "metadata": {},
   "outputs": [],
   "source": [
    "Banks['POI']='Unknown'\n",
    "a=0\n",
    "for a in range(Banks['Date'].count()):\n",
    "    desc=Banks['Desc'].iloc[a]\n",
    "    if desc[0:3]=='UPI':\n",
    "        clues=desc.split('/')\n",
    "        if len(clues)>3:\n",
    "            Banks['POI'].iloc[a]=clues[3].lower()\n",
    "            if clues[6]=='membersh':\n",
    "                Banks['POI'].iloc[a]='Toastmasters'\n",
    "    a+=1"
   ]
  },
  {
   "cell_type": "code",
   "execution_count": 117,
   "id": "be94cdfe",
   "metadata": {},
   "outputs": [],
   "source": [
    "POI_idbi=['int.','sms','ganesh','kripa','refund','petroleum','donot','cash','cardfee','kfc']\n",
    "POI_sbi=['avenues','bsnl','apy','thathanatt','fortune','medicalcentrernakulam','interest','sudeendhra','amazon',\n",
    "         'teekoy','fruits','bulk','9447375729','p2a','boutiqernakulam','fuels','atm','more','pavilion','makemytrip',\n",
    "         'ganesh','iit','irctc','bigtree','refund','sbilt']\n",
    "POI_hdfc=['ganeshmohan','navaratna','interest','ganesh','p2p','fee','nwd','midhun','hospital','thathanatt']\n",
    "POI_canara=['google','charges','ib','netflix','canva','amazonpayindiapriva','sbint','netflixentertainment',\n",
    "            'ganeshmoha','wwwamazonin','googleplaymumbaiin','googleyoutubepremium','ecs','ibpsmumbaiin','ganesh']"
   ]
  },
  {
   "cell_type": "code",
   "execution_count": 118,
   "id": "e8d08d89",
   "metadata": {},
   "outputs": [],
   "source": [
    "\"\"\"POI assignation\"\"\"\n",
    "a=0\n",
    "for a in range(Banks['Date'].count()):\n",
    "    bank=Banks['Bank'].iloc[a]\n",
    "    desc=Banks['Desc'].iloc[a]\n",
    "    poi=Banks['POI'].iloc[a]\n",
    "    clues=re.split('-|_|/| |:',desc)\n",
    "    if bank=='IDBI':\n",
    "        b=0\n",
    "        for b in range(len(clues)):\n",
    "            if clues[b].lower() in POI_idbi:\n",
    "                Banks['POI'].iloc[a]=clues[b].lower()\n",
    "                break\n",
    "            b+=1\n",
    "    if bank=='SBI':\n",
    "        b=0\n",
    "        for b in range(len(clues)):\n",
    "            if clues[b].lower() in POI_sbi:\n",
    "                Banks['POI'].iloc[a]=clues[b].lower()\n",
    "                break\n",
    "            b+=1\n",
    "    if bank=='HDFC':\n",
    "        b=0\n",
    "        for b in range(len(clues)):\n",
    "            if clues[b].lower() in POI_hdfc:\n",
    "                Banks['POI'].iloc[a]=clues[b].lower()\n",
    "                break\n",
    "            b+=1\n",
    "    if (bank=='CANARA')and(poi=='Unknown'):\n",
    "        b=0\n",
    "        for b in range(len(clues)):\n",
    "            if clues[b].lower() in POI_canara:\n",
    "                Banks['POI'].iloc[a]=clues[b].lower()\n",
    "                break\n",
    "            b+=1\n",
    "    \n",
    "    a+=1"
   ]
  },
  {
   "cell_type": "code",
   "execution_count": 119,
   "id": "b8252ef8",
   "metadata": {},
   "outputs": [],
   "source": [
    "\"\"\"The rest of the POI for sbi and canara\"\"\"\n",
    "a=0\n",
    "for a in range(Banks['Date'].count()):\n",
    "    bank=Banks['Bank'].iloc[a]\n",
    "    desc=Banks['Desc'].iloc[a]\n",
    "    poi=Banks['POI'].iloc[a]\n",
    "    clues1=re.split('1|2|3|4|5|6|7|8|9|0| |-|,',desc)\n",
    "    clues2=desc.split('*')\n",
    "    clues3=desc.split('(')\n",
    "    if poi=='Unknown':\n",
    "        b=0\n",
    "        for b in range(len(clues1)):\n",
    "            if clues1[b].lower() in POI_sbi+POI_canara:\n",
    "                Banks['POI'].iloc[a]=clues1[b].lower()\n",
    "                break\n",
    "            b+=1\n",
    "        b=0\n",
    "        for b in range(len(clues2)):\n",
    "            clues=re.split('1|2|3|4|5|6|7|8|9|0| |-|,',clues2[b])\n",
    "            c=0\n",
    "            for c in range(len(clues)):\n",
    "                if clues[c].lower() in POI_sbi+POI_canara:\n",
    "                    Banks['POI'].iloc[a]=clues[c].lower()\n",
    "                    break\n",
    "                c+=1\n",
    "            b+=1\n",
    "        b=0\n",
    "        for b in range(len(clues3)):\n",
    "            clues=clues3[b].split()\n",
    "            c=0\n",
    "            for c in range(len(clues)):\n",
    "                if clues[c].lower() in POI_sbi+POI_canara:\n",
    "                    Banks['POI'].iloc[a]=clues[c].lower()\n",
    "                    break\n",
    "                c+=1\n",
    "            b+=1\n",
    "    a+=1        "
   ]
  },
  {
   "cell_type": "markdown",
   "id": "50a83f18",
   "metadata": {},
   "source": [
    "### Removing duplicates in POI"
   ]
  },
  {
   "cell_type": "code",
   "execution_count": 120,
   "id": "6a742cc8",
   "metadata": {},
   "outputs": [],
   "source": [
    "\"\"\"Multiple names\"\"\"\n",
    "a=0\n",
    "for a in range(Banks['Date'].count()):\n",
    "    poi=Banks['POI'].iloc[a]\n",
    "    amt=Banks['Amount'].iloc[a]\n",
    "    if poi in ['ib','ganeshmohan','dummy name','9447375729','p2a','ganesh','ganeshmoha']:\n",
    "        Banks['POI'].iloc[a]='Ganesh'\n",
    "    if poi in ['aashishla','aashish  ']:\n",
    "        Banks['POI'].iloc[a]='Aashish'\n",
    "    if poi in ['geetha  c','sbilt','geetha c ']:\n",
    "        Banks['POI'].iloc[a]='Amma'\n",
    "    if poi in ['srikanth ']:\n",
    "        Banks['POI'].iloc[a]='Srikanth'\n",
    "    if poi in ['amal  c s']:\n",
    "        Banks['POI'].iloc[a]='Amal C'\n",
    "    if poi in ['netflix','netflixentertainment']:\n",
    "        Banks['POI'].iloc[a]='netflix'\n",
    "    if poi in ['emmanuel ','emmanuelb']:\n",
    "        Banks['POI'].iloc[a]='Emmanuel'\n",
    "    if poi in ['sreejith ']:\n",
    "        if amt<-100:\n",
    "            Banks['POI'].iloc[a]='Sreejith-Ril'\n",
    "        else:\n",
    "            Banks['POI'].iloc[a]='Sreejith'\n",
    "    if poi in ['midhun k','midhun']:\n",
    "        Banks['POI'].iloc[a]='Midhun'\n",
    "    if poi in ['rahul jay']:\n",
    "        Banks['POI'].iloc[a]='Rahul J'\n",
    "    if poi in ['uthara  t','amal  p t']:\n",
    "        Banks['POI'].iloc[a]='Amal PT'\n",
    "    if poi in ['arjun  ma']:\n",
    "        Banks['POI'].iloc[a]='Arjun Maku'\n",
    "    if poi in ['vishnu vi','vishnu.vi']:\n",
    "        Banks['POI'].iloc[a]='Vishnu V'\n",
    "    if poi in ['mahesh mo']:\n",
    "        Banks['POI'].iloc[a]='Mahesh'\n",
    "    if poi in ['mr athul ','athul joh']:\n",
    "        Banks['POI'].iloc[a]='Athul'\n",
    "    if poi in ['googleyoutubepremium','google']:\n",
    "        Banks['POI'].iloc[a]='Youtube'\n",
    "    if poi in ['harikrish','790230715']:\n",
    "        Banks['POI'].iloc[a]='Hari TS'\n",
    "    if poi in ['bibin  jo','bibin john']:\n",
    "        Banks['POI'].iloc[a]='Bibin'\n",
    "    if poi in ['amazon','amazonpayindiapriva','wwwamazonin']:\n",
    "        Banks['POI'].iloc[a]='amazon'\n",
    "    if poi in ['razorpaya','bharti ai']:\n",
    "        Banks['POI'].iloc[a]='Airtel'\n",
    "    if poi in ['thesreera','sreerag p']:\n",
    "        Banks['POI'].iloc[a]='sreerag p'\n",
    "    a+=1"
   ]
  },
  {
   "cell_type": "markdown",
   "id": "82b824f9",
   "metadata": {},
   "source": [
    "### Finding Sub-Categories"
   ]
  },
  {
   "cell_type": "code",
   "execution_count": 121,
   "id": "09a9e626",
   "metadata": {},
   "outputs": [],
   "source": [
    "SNVP=['Aashish','Srikanth','Midhun','Rahul J', 'sreeraj r','Hari TS','srinath r', 'Amal PT','p vinayak','Vishnu V',\n",
    "      'amal p j', 'kiran k s','vishnu t ','sreenath ','prashob p','Sreejith']\n",
    "Friends=['Amal C','Emmanuel','Sreejith-Ril','Arjun Maku','dharmendr','jnananshu','sreerag p', 'Athul', 'anjita n a',\n",
    "         'arya leks','hitesh ta', 'rahul  s','Mahesh','sam satya']\n",
    "pump=['thathanatt','fortune','k p vargh','hp petrol','kripa','kripa fue','teekoy','kp varghe','petroleum','thathanat',\n",
    "      'fuels','sasikumar','st thomas','raju ente','sterling ','io851683.']\n",
    "med=['medicalcentrernakulam','canva','sudeendhra', 'new st ma', 'ashraya m','doctors d','maria med','sevana me',\n",
    "     'netambit','alfaone r','mr. shaji','hospital','thripunit']\n",
    "foods=['taste   t','taste   t','binu r','k s sasi','Bibin','rajadhani','swiggy','manikutta','rafeek ar','aby tom n',\n",
    "       'donot','chempakam','ashraf ah','alma bake','hitachi p','abraham p','amani ear']\n",
    "stores=['sree kuma', 'venu  m  n', 'pulimoott', 'aiswarya ', 'edathileg', 'edathil e', 'easyday', 'muhammed',\n",
    "        'prime sup', 'sobhaslad','dressworld', 'merrina a', 'biju k k', 'boutiqernakulam', 'bharatpem', \n",
    "        'bharatpe.', 'fruits', 'more,', 'p k shefi','saimy geo', 'k s joseph','more','krishna  ','zgraphics',\n",
    "        'mariyam x','muhammed ','siraj  my','priyom ma','paris col','down town','safiyat h','h and c s']"
   ]
  },
  {
   "cell_type": "code",
   "execution_count": 122,
   "id": "04228567",
   "metadata": {},
   "outputs": [],
   "source": [
    "\"\"\"Sub-Categories\"\"\"\n",
    "Banks['SubC']='Unknown'\n",
    "a=0\n",
    "for a in range(Banks['Date'].count()):\n",
    "    poi=Banks['POI'].iloc[a]\n",
    "    if poi in ['sms','kfc','cardfee','charges','navaratna','p2p','fee']:\n",
    "        Banks['SubC'].iloc[a]='Charges'\n",
    "    if poi in ['int.','googlepay','bulk','interest','sbint']:\n",
    "        Banks['SubC'].iloc[a]='Interest'\n",
    "    if poi in ['avenues','reliance ']:\n",
    "        Banks['SubC'].iloc[a]='Jio'\n",
    "    if poi in ['Youtube','netflix']:\n",
    "        Banks['SubC'].iloc[a]='TV'\n",
    "    if poi in ['Ganesh']:\n",
    "        Banks['SubC'].iloc[a]='Fund Transfer'\n",
    "    if poi in SNVP:\n",
    "        Banks['SubC'].iloc[a]='SNVP'\n",
    "    if poi in ['bsnl','Airtel']:\n",
    "        Banks['SubC'].iloc[a]='Mobile'\n",
    "    if poi in ['Amma']:\n",
    "        Banks['SubC'].iloc[a]='Amma'\n",
    "    if poi in Friends:\n",
    "        Banks['SubC'].iloc[a]='Friends'\n",
    "    if poi in ['apy']:\n",
    "        Banks['SubC'].iloc[a]='APY'\n",
    "    if poi in ['kiran s','unnikrish','iva sports','anusree  p','k s moham','pavilion']:\n",
    "        Banks['SubC'].iloc[a]='Badminton'\n",
    "    if poi in ['kotha sri']:\n",
    "        Banks['SubC'].iloc[a]='Haircut'\n",
    "    if poi in pump:\n",
    "        Banks['SubC'].iloc[a]='Petrol'\n",
    "    if poi in med or poi=='dunzo dig':\n",
    "        Banks['SubC'].iloc[a]='Meds'\n",
    "    if poi in ['neelatt g','bhasura v']:\n",
    "        Banks['SubC'].iloc[a]='Fund'\n",
    "    if poi in ['amazon','googleplaymumbaiin']:\n",
    "        Banks['SubC'].iloc[a]='Online'\n",
    "    if poi in ['razorpay','ibpsmumbaiin']:\n",
    "        Banks['SubC'].iloc[a]='Exam'\n",
    "    if poi in foods:\n",
    "        Banks['SubC'].iloc[a]='Food'\n",
    "    if poi in stores:\n",
    "        Banks['SubC'].iloc[a]='Purchase'\n",
    "    if poi in ['bigtree e', 'bigtree', 'v s ventu']:\n",
    "        Banks['SubC'].iloc[a]='Movie'\n",
    "    if poi in ['althaf v s', 'shameer  ']:\n",
    "        Banks['SubC'].iloc[a]='Trip'\n",
    "    if poi in ['bullet pa', 'suresh ku', 'smooth ri','mangalath']:\n",
    "        Banks['SubC'].iloc[a]='Vehicle'\n",
    "    if poi in ['makemytrip', 'olacabs', 'yatra','irctc','refund','ibibo gro']:\n",
    "        Banks['SubC'].iloc[a]='Travel'\n",
    "    if poi in ['ecs','iit']:\n",
    "        Banks['SubC'].iloc[a]='Income'\n",
    "    if poi in ['cash','atm','nwd']:\n",
    "        Banks['SubC'].iloc[a]='Cash'\n",
    "    if poi in ['astro 7 s']:\n",
    "        Banks['SubC'].iloc[a]='Football'\n",
    "    if poi in ['ajay  p a','jayesh b k','sylviya s','Toastmasters']:\n",
    "        Banks['SubC'].iloc[a]='Others'\n",
    "    a+=1"
   ]
  },
  {
   "cell_type": "markdown",
   "id": "5cfff07b",
   "metadata": {},
   "source": [
    "### Finding Reasons for FRIENDS AND FAMILY transfers"
   ]
  },
  {
   "cell_type": "code",
   "execution_count": 123,
   "id": "478f525e",
   "metadata": {},
   "outputs": [],
   "source": [
    "\"\"\"Reasons for FRIENDS AND FAMILY transfers \"\"\"\n",
    "Banks['why']='Unknown'\n",
    "a=0\n",
    "for a in range(Banks['Date'].count()):\n",
    "    subc=Banks['SubC'].iloc[a]\n",
    "    if subc!='Friends' and subc!='SNVP' and subc!='Amma':\n",
    "        Banks['why'].iloc[a]='Known'\n",
    "    a+=1"
   ]
  },
  {
   "cell_type": "code",
   "execution_count": 124,
   "id": "83ac5269",
   "metadata": {},
   "outputs": [],
   "source": [
    "a=0\n",
    "for a in range(Banks['Date'].count()):\n",
    "    desc=Banks['Desc'].iloc[a]\n",
    "    why=Banks['why'].iloc[a]\n",
    "    if (why=='Unknown')and(desc[0:3]=='UPI'):\n",
    "        clue=desc.split('/')[6]\n",
    "        Banks['why'].iloc[a]=clue\n",
    "    a+=1"
   ]
  },
  {
   "cell_type": "code",
   "execution_count": 125,
   "id": "aadee2e1",
   "metadata": {},
   "outputs": [],
   "source": [
    "why_badmin=['badminton','sreeraj ','badminto','shuttle','sat badm','bat','hbat','batmi','iSports','Aashish ','oct 31st',\n",
    "            'new year']\n",
    "why_food=['snacks', 'dinner', 'pachola','kitkat c','food','cake', 'dosai', 'shake','LMN','nettoor ','brindhavan',\n",
    "          'french t','Pappaya ','pappaya', 'poem cafe', 'food ekm','cool cool','NM lunch','biriyani','lunch ve', \n",
    "          'Dinner','Chinnu h','me and n','NO REMARKS']"
   ]
  },
  {
   "cell_type": "code",
   "execution_count": 126,
   "id": "2f33db95",
   "metadata": {},
   "outputs": [],
   "source": [
    "a=0\n",
    "for a in range(Banks['Date'].count()):\n",
    "    why=Banks['why'].iloc[a]\n",
    "    poi=Banks['POI'].iloc[a]\n",
    "    if why in why_badmin:\n",
    "        Banks['why'].iloc[a]='Known'\n",
    "        Banks['SubC'].iloc[a]='Badminton'\n",
    "    if why in why_food:\n",
    "        Banks['why'].iloc[a]='Known'\n",
    "        Banks['SubC'].iloc[a]='Food'\n",
    "    if why in ['Wagamon','trip','Tour','vagamon ','Goa trip','Varkala ','trip cash']:\n",
    "        Banks['why'].iloc[a]='Known'\n",
    "        Banks['SubC'].iloc[a]='Trip'\n",
    "    if why in ['gift','Me and A','gifts','Gift for','gift share','Kamath g','ashish']:\n",
    "        Banks['why'].iloc[a]='Known'\n",
    "        Banks['SubC'].iloc[a]='Gift'\n",
    "    if why in ['diary pu','fruits f','glass']:\n",
    "        Banks['why'].iloc[a]='Known'\n",
    "        Banks['SubC'].iloc[a]='Purchase'\n",
    "    if why in ['football']:\n",
    "        Banks['why'].iloc[a]='Known'\n",
    "        Banks['SubC'].iloc[a]='Football'\n",
    "    if why in ['petrol','petrol b', 'fuel tvm']:\n",
    "        Banks['why'].iloc[a]='Known'\n",
    "        Banks['SubC'].iloc[a]='Petrol'\n",
    "    if why in ['film','film cash','bheeshma']:\n",
    "        Banks['why'].iloc[a]='Known'\n",
    "        Banks['SubC'].iloc[a]='Movie'\n",
    "    if why in ['medicines','meds','t','meds and','medical ']:\n",
    "        Banks['why'].iloc[a]='Known'\n",
    "        Banks['SubC'].iloc[a]='Meds'\n",
    "    if why in ['lending','tinder','repayment']:\n",
    "        Banks['why'].iloc[a]='Known'\n",
    "        Banks['SubC'].iloc[a]='Loan'\n",
    "    if why in ['Unknown'] and poi=='Midhun':\n",
    "        Banks['why'].iloc[a]='Known'\n",
    "        Banks['SubC'].iloc[a]='Loan'  \n",
    "    if why in ['Unknown'] and poi=='Amma':\n",
    "        Banks['why'].iloc[a]='Known'\n",
    "        Banks['SubC'].iloc[a]='Fund'\n",
    "    if why in ['car fast'] and poi=='Amma':\n",
    "        Banks['why'].iloc[a]='Known'\n",
    "        Banks['SubC'].iloc[a]='Vehicle'\n",
    "    if why in ['cash']:\n",
    "        Banks['why'].iloc[a]='Known'\n",
    "        Banks['SubC'].iloc[a]='Cash'\n",
    "    if why in ['Netflix ','nov dec ','netflix']:\n",
    "        Banks['why'].iloc[a]='Known'\n",
    "        Banks['SubC'].iloc[a]='TV'\n",
    "    if why in ['cashback', 'test pas','test']:\n",
    "        Banks['why'].iloc[a]='Known'\n",
    "        Banks['SubC'].iloc[a]='Interest'\n",
    "    a+=1"
   ]
  },
  {
   "cell_type": "code",
   "execution_count": 127,
   "id": "22f83712",
   "metadata": {},
   "outputs": [],
   "source": [
    "Badminton=['Aashish','Srikanth','Midhun','Rahul J', 'sreeraj r','Hari TS','srinath r', 'p vinayak',\n",
    "              'Vishnu V', 'amal p j', 'kiran k s','vishnu t ','sreenath ','Sreejith']"
   ]
  },
  {
   "cell_type": "code",
   "execution_count": 128,
   "id": "3d2ca922",
   "metadata": {
    "scrolled": false
   },
   "outputs": [],
   "source": [
    "\"\"\"SPORTS DATES WHEN I PAID\"\"\"\n",
    "a=0\n",
    "for a in range(Banks['Date'].count()):\n",
    "    poi=Banks['POI'].iloc[a]\n",
    "    date=Banks['Date'].iloc[a]\n",
    "    if poi in ['kiran s','anusree  p','astro 7 s']:\n",
    "        Dates=[date+datetime.timedelta(i) for i in range(6)]\n",
    "        b=0\n",
    "        for b in range(a-20,615):\n",
    "            amt=Banks['Amount'].iloc[b]\n",
    "            poi=Banks['POI'].iloc[b]\n",
    "            why=Banks['why'].iloc[b]\n",
    "            date=Banks['Date'].iloc[b]\n",
    "            if (why!='Known')and(date in Dates)and(poi in Badminton)and(amt>0)and(amt<400):\n",
    "                Banks['why'].iloc[b]='Known'\n",
    "                Banks['SubC'].iloc[b]='Badminton'\n",
    "            b+=1\n",
    "    a+=1   "
   ]
  },
  {
   "cell_type": "markdown",
   "id": "650e12a2",
   "metadata": {},
   "source": [
    "### Using additional data"
   ]
  },
  {
   "cell_type": "code",
   "execution_count": 129,
   "id": "6a5eb59e",
   "metadata": {},
   "outputs": [],
   "source": [
    "\"\"\"Based on data from Gpay\"\"\"\n",
    "Banks=Banks.append(Banks[Banks['Amount']==-920]) \n",
    "Banks=Banks.append(Banks[Banks['Amount']==1750])\n",
    "Banks.sort_values(by='Date',inplace=True)\n",
    "Banks.reset_index(inplace=True,drop=True)\n",
    "\n",
    "count1=0\n",
    "count2=0\n",
    "a=0\n",
    "for a in range(Banks['Date'].count()):\n",
    "    amt=Banks['Amount'].iloc[a]\n",
    "    poi=Banks['POI'].iloc[a]\n",
    "    date=Banks['Date'].iloc[a]\n",
    "    if amt==-920:\n",
    "        if count1==0:\n",
    "            Banks['Amount'].iloc[a]=-500\n",
    "            Banks['Balance'].iloc[a]=2420.71\n",
    "            Banks['SubC'].iloc[a]='Gift'\n",
    "            count1+=1\n",
    "        else:\n",
    "            Banks['Amount'].iloc[a]=-420\n",
    "            Banks['SubC'].iloc[a]='Meds'\n",
    "        Banks['why'].iloc[a]='Known'\n",
    "    if amt==1750:\n",
    "        if count2==0:\n",
    "            Banks['Amount'].iloc[a]=1500\n",
    "            Banks['Balance'].iloc[a]=2670.71\n",
    "            Banks['SubC'].iloc[a]='Loan'\n",
    "            count2+=1\n",
    "        else:\n",
    "            Banks['Amount'].iloc[a]=250\n",
    "            Banks['SubC'].iloc[a]='TV'\n",
    "        Banks['why'].iloc[a]='Known'\n",
    "    if amt in [-231,-164]:\n",
    "        Banks['SubC'].iloc[a]='Food'\n",
    "        Banks['why'].iloc[a]='Known'\n",
    "    if poi=='Sreejith-Ril':\n",
    "        Banks['SubC'].iloc[a]='Gift'\n",
    "        Banks['why'].iloc[a]='Known'\n",
    "    if poi=='Hari TS' and date==pd.to_datetime('2021-10-13') and why!='Known':\n",
    "        Banks['SubC'].iloc[a]='Trip'\n",
    "        Banks['why'].iloc[a]='Known'\n",
    "    if poi=='Amma' and date==pd.to_datetime('2021-10-29') and why!='Known':\n",
    "        Banks['SubC'].iloc[a]='Meds'\n",
    "        Banks['why'].iloc[a]='Known'\n",
    "    a+=1"
   ]
  },
  {
   "cell_type": "code",
   "execution_count": 130,
   "id": "f9270825",
   "metadata": {},
   "outputs": [],
   "source": [
    "\"\"\"Purchase dates\"\"\"\n",
    "sponsor=['Amma','bhasura v']\n",
    "a=0\n",
    "for a in range(Banks['Date'].count()):\n",
    "    date=Banks['Date'].iloc[a]\n",
    "    subc=Banks['SubC'].iloc[a]\n",
    "    amt=Banks['Amount'].iloc[a]\n",
    "    if subc in ['Travel','Petrol','Jio'] and amt<=-400:\n",
    "        Date=date\n",
    "        Amt=round(amt*(-1))\n",
    "        b=0\n",
    "        for b in range(Banks['Date'].count()):\n",
    "            date=Banks['Date'].iloc[b]\n",
    "            poi=Banks['POI'].iloc[b]\n",
    "            amt=Banks['Amount'].iloc[b]\n",
    "            if date==Date and poi in ['Amma'] and amt>=Amt:\n",
    "                Banks['SubC'].iloc[b]=subc\n",
    "                Banks['why'].iloc[b]='Known'\n",
    "            b+=1\n",
    "    if subc in ['Purchase','Cash'] and amt<=-1000:\n",
    "        Date=date\n",
    "        b=0\n",
    "        for b in range(Banks['Date'].count()):\n",
    "            date=Banks['Date'].iloc[b]\n",
    "            poi=Banks['POI'].iloc[b]\n",
    "            if date==Date and poi in ['Amma','nwd'] :\n",
    "                Banks['SubC'].iloc[b]='Purchase'\n",
    "                Banks['why'].iloc[b]='Known'\n",
    "            b+=1\n",
    "    if subc in ['Movie'] and amt<-500:\n",
    "        Dates=[date+datetime.timedelta(i) for i in range(5)]\n",
    "        Amt=round(amt*(-1))\n",
    "        b=0\n",
    "        for b in range(Banks['Date'].count()):\n",
    "            date=Banks['Date'].iloc[b]\n",
    "            poi=Banks['POI'].iloc[b]\n",
    "            amt=Banks['Amount'].iloc[b]\n",
    "            if date in Dates and poi in sponsor and amt in range(Amt,Amt+30):\n",
    "                Banks['SubC'].iloc[b]='Movie'\n",
    "                Banks['why'].iloc[b]='Known'\n",
    "            b+=1\n",
    "    a+=1  "
   ]
  },
  {
   "cell_type": "code",
   "execution_count": 131,
   "id": "9ea42ce6",
   "metadata": {},
   "outputs": [],
   "source": [
    "\"\"\"Loan Group\"\"\"\n",
    "Badmi_start=pd.to_datetime('2021-09-20')\n",
    "a=0\n",
    "for a in range(Banks['Date'].count()):\n",
    "    poi=Banks['POI'].iloc[a]\n",
    "    why=Banks['why'].iloc[a]\n",
    "    date=Banks['Date'].iloc[a]\n",
    "    amt=Banks['Amount'].iloc[a]\n",
    "    if poi in ['Amal C','Arjun Maku','dharmendr','jnananshu','Athul'] and why!='Known':\n",
    "        Banks['SubC'].iloc[a]='Loan'\n",
    "        Banks['why'].iloc[a]='Known'\n",
    "    if poi in ['Aashish','Srikanth'] and why!='Known' and date<Badmi_start:\n",
    "        Banks['SubC'].iloc[a]='Loan'\n",
    "        Banks['why'].iloc[a]='Known'\n",
    "    if poi in ['Hari TS'] and why!='Known' and amt>500:\n",
    "        Banks['SubC'].iloc[a]='Loan'\n",
    "        Banks['why'].iloc[a]='Known'\n",
    "    a+=1"
   ]
  },
  {
   "cell_type": "code",
   "execution_count": 132,
   "id": "9fcbe172",
   "metadata": {},
   "outputs": [],
   "source": [
    "\"\"\"Movie days\"\"\"\n",
    "Dates=pd.to_datetime(['2021-12-27','2022-03-10','2022-05-16'])\n",
    "Date=pd.to_datetime('2022-03-11')\n",
    "movie_guys=['Aashish','anjita n a','Vishnu V']\n",
    "a=0\n",
    "for a in range(Banks['Date'].count()):\n",
    "    why=Banks['why'].iloc[a]\n",
    "    date=Banks['Date'].iloc[a]\n",
    "    poi=Banks['POI'].iloc[a]\n",
    "    amt=Banks['Amount'].iloc[a]\n",
    "    if date in Dates and why!='Known' and poi in movie_guys:\n",
    "        Banks['SubC'].iloc[a]='Movie'\n",
    "        Banks['why'].iloc[a]='Known'\n",
    "    if date==Date and (amt<-300) and why!='Known' and poi in movie_guys:\n",
    "        Banks['SubC'].iloc[a]='Movie'\n",
    "        Banks['why'].iloc[a]='Known'\n",
    "    a+=1"
   ]
  },
  {
   "cell_type": "code",
   "execution_count": 133,
   "id": "54a3dcca",
   "metadata": {},
   "outputs": [],
   "source": [
    "\"\"\"Gift days\"\"\"\n",
    "Aash_bday=pd.to_datetime('2021-11-01')\n",
    "Abhi_bday=pd.to_datetime('2022-03-26')\n",
    "Chechi_bday=pd.to_datetime('2021-12-09')\n",
    "Mah_bday=pd.to_datetime('2021-09-22')\n",
    "PTvava_bday=pd.to_datetime('2022-05-22')\n",
    "AmalC_gift=pd.to_datetime('2021-10-02')\n",
    "Rahul_gift=[pd.to_datetime('2022-01-14')+datetime.timedelta(i) for i in range(3)]\n",
    "\n",
    "Family=['Aashish','anjita n a','Mahesh']\n",
    "Bday=[Aash_bday,Abhi_bday,Chechi_bday,Mah_bday]\n",
    "\n",
    "Gift_day=[]\n",
    "for day in Bday:\n",
    "    for i in range(7):\n",
    "        Gift_day.append(day-datetime.timedelta(i))\n",
    "        i+=1\n",
    "Gift_day.append(AmalC_gift)\n",
    "\n",
    "a=0\n",
    "for a in range(Banks['Date'].count()):\n",
    "    date=Banks['Date'].iloc[a]\n",
    "    amt=Banks['Amount'].iloc[a]\n",
    "    poi=Banks['POI'].iloc[a]\n",
    "    subc=Banks['SubC'].iloc[a]\n",
    "    if date in Gift_day and (amt>500 or amt<-500) and (poi in Family or subc=='Online'):\n",
    "        Banks['SubC'].iloc[a]='Gift'\n",
    "        Banks['why'].iloc[a]='Known'\n",
    "    if date == PTvava_bday and (amt==-100):\n",
    "        Banks['SubC'].iloc[a]='Gift'\n",
    "        Banks['why'].iloc[a]='Known'\n",
    "    if date in Rahul_gift and (poi=='hitesh ta' or subc=='Online'):\n",
    "        Banks['SubC'].iloc[a]='Gift'\n",
    "        Banks['why'].iloc[a]='Known'\n",
    "    a+=1"
   ]
  },
  {
   "cell_type": "code",
   "execution_count": 134,
   "id": "60bad048",
   "metadata": {},
   "outputs": [],
   "source": [
    "\"\"\"From Memory\"\"\"\n",
    "a=0\n",
    "for a in range(617):\n",
    "    date=Banks['Date'].iloc[a]\n",
    "    why=Banks['why'].iloc[a]\n",
    "    poi=Banks['POI'].iloc[a]\n",
    "    amt=Banks['Amount'].iloc[a]\n",
    "    if (date == pd.Timestamp('2022-05-21')):\n",
    "        if (why!='Known'):\n",
    "            Banks['SubC'].iloc[a]='Food'\n",
    "            Banks['why'].iloc[a]='Known'\n",
    "    if (date == pd.Timestamp('2022-03-11')):\n",
    "        if (why!='Known') and poi=='anjita n a':\n",
    "            Banks['SubC'].iloc[a]='Gift'\n",
    "            Banks['why'].iloc[a]='Known'\n",
    "    if (poi=='Vishnu V') and (amt>=200 or amt <=-200):\n",
    "        if (why!='Known'):\n",
    "            Banks['SubC'].iloc[a]='Meds'\n",
    "            Banks['why'].iloc[a]='Known'\n",
    "    if (date == pd.Timestamp('2022-03-11')):\n",
    "        if (poi in ['sylviya s','irctc']):\n",
    "            Banks['SubC'].iloc[a]='Trip'\n",
    "            Banks['why'].iloc[a]='Known'\n",
    "    if (date == pd.Timestamp('2021-10-04')):\n",
    "        if (poi=='Amal PT'):\n",
    "            Banks['SubC'].iloc[a]='Food'\n",
    "            Banks['why'].iloc[a]='Known'\n",
    "    a+=1"
   ]
  },
  {
   "cell_type": "code",
   "execution_count": 135,
   "id": "a08e4a2d",
   "metadata": {},
   "outputs": [],
   "source": [
    "\"\"\"Badminton Group\"\"\"\n",
    "a=0\n",
    "for a in range(Banks['Date'].count()):\n",
    "    poi=Banks['POI'].iloc[a]\n",
    "    why=Banks['why'].iloc[a]\n",
    "    amt=Banks['Amount'].iloc[a]\n",
    "    if (poi in Badminton) and (why!= 'Known'):\n",
    "        Banks['SubC'].iloc[a]='Badminton'\n",
    "        Banks['why'].iloc[a]='Known'\n",
    "    if poi=='sreerag p' and amt==150:\n",
    "        Banks['SubC'].iloc[a]='Badminton'\n",
    "        Banks['why'].iloc[a]='Known'\n",
    "    a+=1"
   ]
  },
  {
   "cell_type": "code",
   "execution_count": 136,
   "id": "f385110f",
   "metadata": {},
   "outputs": [],
   "source": [
    "\"\"\"Netflix Group\"\"\"\n",
    "Netflix=['sreerag p','hitesh ta','Emmanuel','anjita n a']\n",
    "a=0\n",
    "for a in range(Banks['Date'].count()):\n",
    "    poi=Banks['POI'].iloc[a]\n",
    "    why=Banks['why'].iloc[a]\n",
    "    amt=Banks['Amount'].iloc[a]\n",
    "    if poi in Netflix and why!='Known':\n",
    "        if amt<-2000:\n",
    "            Banks['SubC'].iloc[a]='Loan'\n",
    "        else:\n",
    "            Banks['SubC'].iloc[a]='TV'\n",
    "        Banks['why'].iloc[a]='Known'"
   ]
  },
  {
   "cell_type": "code",
   "execution_count": 137,
   "id": "3fd1bd6a",
   "metadata": {},
   "outputs": [],
   "source": [
    "\"\"\"Cash from Amma\"\"\"\n",
    "a=0\n",
    "for a in range(Banks['Date'].count()):\n",
    "    poi=Banks['POI'].iloc[a]\n",
    "    why=Banks['why'].iloc[a]\n",
    "    if poi=='Amma' and why!='Known':\n",
    "        Banks['SubC'].iloc[a]='Cash'\n",
    "        Banks['why'].iloc[a]='Known'\n",
    "    a+=1"
   ]
  },
  {
   "cell_type": "code",
   "execution_count": 138,
   "id": "3672fac5",
   "metadata": {},
   "outputs": [],
   "source": [
    "Banks.drop(['Desc','why'],axis=1,inplace=True)"
   ]
  },
  {
   "cell_type": "markdown",
   "id": "8f6d0494",
   "metadata": {},
   "source": [
    "### Finding Main Categories"
   ]
  },
  {
   "cell_type": "code",
   "execution_count": 139,
   "id": "a0703173",
   "metadata": {},
   "outputs": [],
   "source": [
    "\"\"\"Main Categories\"\"\"\n",
    "Banks['Cats']='Unknown'\n",
    "a=0\n",
    "\n",
    "for a in range(Banks['Date'].count()):\n",
    "    subc=Banks['SubC'].iloc[a]\n",
    "    if subc in ['Football','Badminton']:\n",
    "        Banks['Cats'].iloc[a]='Sports'\n",
    "    if subc in ['Movie','Trip','TV','Haircut']:\n",
    "        Banks['Cats'].iloc[a]='Luxury'\n",
    "    if subc in ['Online','Purchase']:\n",
    "        Banks['Cats'].iloc[a]='Purchase'\n",
    "    if subc in ['Exam','Vehicle','Mobile','APY','Others','Jio','Travel']:\n",
    "        Banks['Cats'].iloc[a]='Expense'\n",
    "    if subc in ['Friends','SNVP']:\n",
    "        Banks['Cats'].iloc[a]='Friends'\n",
    "    if subc in ['Interest','Charges','Fund Transfer']:\n",
    "        Banks['Cats'].iloc[a]='Banks'\n",
    "    if subc in ['Fund','Income']:\n",
    "        Banks['Cats'].iloc[a]='Income'\n",
    "    a+=1"
   ]
  },
  {
   "cell_type": "code",
   "execution_count": 140,
   "id": "785a2bdd",
   "metadata": {},
   "outputs": [],
   "source": [
    "a=0\n",
    "for a in range(Banks['Date'].count()):\n",
    "    subc=Banks['SubC'].iloc[a]\n",
    "    cat=Banks['Cats'].iloc[a]\n",
    "    if cat=='Unknown':\n",
    "        Banks['Cats'].iloc[a]=subc\n",
    "    a+=1"
   ]
  },
  {
   "cell_type": "markdown",
   "id": "0de9a0f6",
   "metadata": {},
   "source": [
    "## EDA"
   ]
  },
  {
   "cell_type": "code",
   "execution_count": 141,
   "id": "bf81d391",
   "metadata": {
    "scrolled": true
   },
   "outputs": [
    {
     "data": {
      "text/plain": [
       "Sports      147\n",
       "Banks        85\n",
       "Luxury       68\n",
       "Food         63\n",
       "Expense      52\n",
       "Purchase     51\n",
       "Meds         44\n",
       "Loan         34\n",
       "Petrol       33\n",
       "Gift         20\n",
       "Cash         14\n",
       "Income        6\n",
       "Name: Cats, dtype: int64"
      ]
     },
     "execution_count": 141,
     "metadata": {},
     "output_type": "execute_result"
    }
   ],
   "source": [
    "Banks['Cats'].value_counts()"
   ]
  },
  {
   "cell_type": "code",
   "execution_count": 142,
   "id": "697e15af",
   "metadata": {},
   "outputs": [
    {
     "data": {
      "image/png": "[encoded data removed]",
      "text/plain": [
       "<Figure size 1440x864 with 1 Axes>"
      ]
     },
     "metadata": {
      "needs_background": "light"
     },
     "output_type": "display_data"
    }
   ],
   "source": [
    "plt.figure(figsize=(20,12))\n",
    "ax=sns.barplot(data=Banks, x='Cats',y='Amount',estimator=sum,ci=None)\n",
    "for i in ax.containers:\n",
    "    ax.bar_label(i,)\n",
    "plt.savefig('Finances.png')"
   ]
  },
  {
   "cell_type": "code",
   "execution_count": 143,
   "id": "33ae14b6",
   "metadata": {},
   "outputs": [
    {
     "data": {
      "image/png": "[encoded data removed]",
      "text/plain": [
       "<Figure size 1440x576 with 1 Axes>"
      ]
     },
     "metadata": {
      "needs_background": "light"
     },
     "output_type": "display_data"
    }
   ],
   "source": [
    "plt.figure(figsize=(20,8))\n",
    "ax=sns.barplot(data=Banks[Banks['Cats']=='Luxury'], x='SubC',y='Amount',estimator=sum,ci=None)\n",
    "for i in ax.containers:\n",
    "    ax.bar_label(i,)\n",
    "plt.savefig('Luxury.png')"
   ]
  },
  {
   "cell_type": "code",
   "execution_count": 144,
   "id": "19286855",
   "metadata": {},
   "outputs": [
    {
     "data": {
      "image/png": "[encoded data removed]",
      "text/plain": [
       "<Figure size 1440x576 with 1 Axes>"
      ]
     },
     "metadata": {
      "needs_background": "light"
     },
     "output_type": "display_data"
    }
   ],
   "source": [
    "plt.figure(figsize=(20,8))\n",
    "ax=sns.barplot(data=Banks[Banks['Cats']=='Expense'], x='SubC',y='Amount',estimator=sum,ci=None)\n",
    "for i in ax.containers:\n",
    "    ax.bar_label(i,)\n",
    "plt.savefig('Expenses.png')"
   ]
  },
  {
   "cell_type": "code",
   "execution_count": 145,
   "id": "9a3933e8",
   "metadata": {},
   "outputs": [
    {
     "data": {
      "image/png": "[encoded data removed]",
      "text/plain": [
       "<Figure size 1440x576 with 1 Axes>"
      ]
     },
     "metadata": {
      "needs_background": "light"
     },
     "output_type": "display_data"
    }
   ],
   "source": [
    "plt.figure(figsize=(20,8))\n",
    "ax=sns.barplot(data=Banks[Banks['Cats']=='Loan'], x='POI',y='Amount',estimator=sum,ci=None)\n",
    "for i in ax.containers:\n",
    "    ax.bar_label(i,)\n",
    "plt.savefig('Loan.png')"
   ]
  },
  {
   "cell_type": "code",
   "execution_count": 146,
   "id": "030a8a62",
   "metadata": {},
   "outputs": [],
   "source": [
    "Banks['Rslt']='Unknown'\n",
    "a=0\n",
    "for a in range(Banks['Date'].count()):\n",
    "    cats=Banks['Cats'].iloc[a]\n",
    "    if cats=='Loan':\n",
    "        Banks['Rslt'].iloc[a]='Loan'\n",
    "    elif cats in ['Income','Banks']:\n",
    "        Banks['Rslt'].iloc[a]='Revenue'\n",
    "    else:\n",
    "        Banks['Rslt'].iloc[a]='Expend'\n",
    "    a+=1"
   ]
  },
  {
   "cell_type": "code",
   "execution_count": 147,
   "id": "402ab2e2",
   "metadata": {},
   "outputs": [
    {
     "data": {
      "image/png": "[encoded data removed]",
      "text/plain": [
       "<Figure size 1440x864 with 1 Axes>"
      ]
     },
     "metadata": {
      "needs_background": "light"
     },
     "output_type": "display_data"
    }
   ],
   "source": [
    "plt.figure(figsize=(20,12))\n",
    "ax=sns.barplot(data=Banks, x='Rslt',y='Amount',estimator=sum,ci=None)\n",
    "for i in ax.containers:\n",
    "    ax.bar_label(i,)\n",
    "plt.savefig('Result.png')"
   ]
  },
  {
   "cell_type": "code",
   "execution_count": 148,
   "id": "7481fb02",
   "metadata": {},
   "outputs": [
    {
     "data": {
      "image/png": "[encoded data removed]",
      "text/plain": [
       "<Figure size 1440x864 with 1 Axes>"
      ]
     },
     "metadata": {
      "needs_background": "light"
     },
     "output_type": "display_data"
    }
   ],
   "source": [
    "plt.figure(figsize=(20,12))\n",
    "ax=sns.barplot(data=Banks[Banks['Rslt']=='Expend'], x='Cats',y='Amount',estimator=sum,ci=None)\n",
    "for i in ax.containers:\n",
    "    ax.bar_label(i,)\n",
    "plt.savefig('Expenditure.png')"
   ]
  },
  {
   "cell_type": "markdown",
   "id": "b7a5468c",
   "metadata": {},
   "source": [
    "## Summary"
   ]
  },
  {
   "cell_type": "code",
   "execution_count": 149,
   "id": "e971ed03",
   "metadata": {},
   "outputs": [
    {
     "name": "stdout",
     "output_type": "stream",
     "text": [
      "CANARA :\n",
      "Initial Balance:  Rs94839.28 \n",
      "Final Balance:  Rs2442.36\n",
      "Spend:  92396.92\n",
      "IDBI :\n",
      "Initial Balance:  Rs13208.05 \n",
      "Final Balance:  Rs3042.88\n",
      "Spend:  10165.17\n",
      "SBI :\n",
      "Initial Balance:  Rs9997.43 \n",
      "Final Balance:  Rs28528.91\n",
      "Spend:  -18531.48\n",
      "HDFC :\n",
      "Initial Balance:  Rs123776.3 \n",
      "Final Balance:  Rs41467.29\n",
      "Spend:  82309.01\n",
      "Total :\n",
      "Initial Balance:  Rs241821.06 \n",
      "Final Balance:  Rs75481.44\n",
      "Spend:  166339.62\n"
     ]
    }
   ],
   "source": [
    "a=0 \n",
    "ini_idbi=0\n",
    "ini_can=0\n",
    "ini_sbi=0\n",
    "ini_hdfc=0\n",
    "Date=0\n",
    "last=0\n",
    "for a in range(Banks['Date'].count()):\n",
    "    bank=Banks['Bank'].iloc[a]\n",
    "    amt=Banks['Amount'].iloc[a]\n",
    "    date=Banks['Date'].iloc[a]\n",
    "    Bal=Banks['Balance'].iloc[a]\n",
    "    if bank=='CANARA' and ini_can==0:\n",
    "        ini_can=round(Bal-amt,2)\n",
    "        Date=date\n",
    "    if date==Date and bank=='CANARA':\n",
    "        ini_can=round(Bal-amt,2)\n",
    "    if bank=='IDBI' and ini_idbi==0:\n",
    "        ini_idbi=round(Bal-amt,2)\n",
    "    if bank=='HDFC' and ini_hdfc==0:\n",
    "        ini_hdfc=round(Bal-amt,2)\n",
    "    if bank=='SBI' and ini_sbi==0:\n",
    "        ini_sbi=round(Bal-amt,2)\n",
    "    if bank=='CANARA':\n",
    "        if last==0:\n",
    "            fin_can=Bal\n",
    "            last=date\n",
    "        elif date!=last:\n",
    "            fin_can=Bal\n",
    "            last=date\n",
    "        else:\n",
    "            if Bal<fin_can:\n",
    "                fin_can=Bal\n",
    "    if bank=='IDBI':\n",
    "        fin_idbi=Bal\n",
    "    if bank=='HDFC':\n",
    "        fin_hdfc=Bal\n",
    "    if bank=='SBI':\n",
    "        fin_sbi=Bal\n",
    "    a+=1\n",
    "ini_bal=ini_can+ini_sbi+ini_hdfc+ini_idbi\n",
    "fin_bal=fin_can+fin_sbi+fin_hdfc+fin_idbi\n",
    "print(\"CANARA :\\nInitial Balance:  Rs{} \\nFinal Balance:  Rs{}\\nSpend:  {}\".format(ini_can,fin_can,ini_can-fin_can))\n",
    "print(\"IDBI :\\nInitial Balance:  Rs{} \\nFinal Balance:  Rs{}\\nSpend:  {}\".format(ini_idbi,fin_idbi,round(ini_idbi-fin_idbi,2)))\n",
    "print(\"SBI :\\nInitial Balance:  Rs{} \\nFinal Balance:  Rs{}\\nSpend:  {}\".format(ini_sbi,fin_sbi,ini_sbi-fin_sbi))\n",
    "print(\"HDFC :\\nInitial Balance:  Rs{} \\nFinal Balance:  Rs{}\\nSpend:  {}\".format(ini_hdfc,fin_hdfc,round(ini_hdfc-fin_hdfc,2)))\n",
    "print(\"Total :\\nInitial Balance:  Rs{} \\nFinal Balance:  Rs{}\\nSpend:  {}\".format(ini_bal,fin_bal,round(ini_bal-fin_bal,2)))"
   ]
  },
  {
   "cell_type": "code",
   "execution_count": 150,
   "id": "0a8452a4",
   "metadata": {},
   "outputs": [
    {
     "name": "stdout",
     "output_type": "stream",
     "text": [
      "CANARA: Rs.92396.92\n",
      "IDBI: Rs.10165.17\n",
      "SBI: Rs.-18531.48\n",
      "HDFC: Rs.82309.01\n",
      "TOTAL: Rs.166339.62\n"
     ]
    }
   ],
   "source": [
    "a=0 \n",
    "tot_idbi=0\n",
    "tot_can=0\n",
    "tot_sbi=0\n",
    "tot_hdfc=0\n",
    "for a in range(Banks['Date'].count()):\n",
    "    bank=Banks['Bank'].iloc[a]\n",
    "    amt=Banks['Amount'].iloc[a]\n",
    "    if bank=='CANARA':\n",
    "        tot_can+=amt\n",
    "    if bank=='SBI':\n",
    "        tot_sbi+=amt\n",
    "    if bank=='IDBI':\n",
    "        tot_idbi+=amt\n",
    "    if bank=='HDFC':\n",
    "        tot_hdfc+=amt\n",
    "    a+=1\n",
    "tot=tot_sbi+tot_can+tot_idbi+tot_hdfc\n",
    "print('CANARA: Rs.{}'.format(round(tot_can*-1,2)))\n",
    "print('IDBI: Rs.{}'.format(round(tot_idbi*-1,2)))\n",
    "print('SBI: Rs.{}'.format(round(tot_sbi*-1,2)))\n",
    "print('HDFC: Rs.{}'.format(round(tot_hdfc*-1,2)))\n",
    "print('TOTAL: Rs.{}'.format(round(tot*-1,2)))"
   ]
  }
 ],
 "metadata": {
  "kernelspec": {
   "display_name": "Python 3 (ipykernel)",
   "language": "python",
   "name": "python3"
  },
  "language_info": {
   "codemirror_mode": {
    "name": "ipython",
    "version": 3
   },
   "file_extension": ".py",
   "mimetype": "text/x-python",
   "name": "python",
   "nbconvert_exporter": "python",
   "pygments_lexer": "ipython3",
   "version": "3.9.7"
  }
 },
 "nbformat": 4,
 "nbformat_minor": 5
}
