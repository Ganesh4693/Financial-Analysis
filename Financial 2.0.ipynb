{
 "cells": [
  {
   "cell_type": "markdown",
   "id": "ca1b95c7",
   "metadata": {},
   "source": [
    "## Importing Libraries"
   ]
  },
  {
   "cell_type": "code",
   "execution_count": 220,
   "id": "19b3a783",
   "metadata": {},
   "outputs": [
    {
     "data": {
      "text/html": [
       "        <script type=\"text/javascript\">\n",
       "        window.PlotlyConfig = {MathJaxConfig: 'local'};\n",
       "        if (window.MathJax && window.MathJax.Hub && window.MathJax.Hub.Config) {window.MathJax.Hub.Config({SVG: {font: \"STIX-Web\"}});}\n",
       "        if (typeof require !== 'undefined') {\n",
       "        require.undef(\"plotly\");\n",
       "        requirejs.config({\n",
       "            paths: {\n",
       "                'plotly': ['https://cdn.plot.ly/plotly-2.12.1.min']\n",
       "            }\n",
       "        });\n",
       "        require(['plotly'], function(Plotly) {\n",
       "            window._Plotly = Plotly;\n",
       "        });\n",
       "        }\n",
       "        </script>\n",
       "        "
      ]
     },
     "metadata": {},
     "output_type": "display_data"
    },
    {
     "data": {
      "text/html": [
       "        <script type=\"text/javascript\">\n",
       "        window.PlotlyConfig = {MathJaxConfig: 'local'};\n",
       "        if (window.MathJax && window.MathJax.Hub && window.MathJax.Hub.Config) {window.MathJax.Hub.Config({SVG: {font: \"STIX-Web\"}});}\n",
       "        if (typeof require !== 'undefined') {\n",
       "        require.undef(\"plotly\");\n",
       "        requirejs.config({\n",
       "            paths: {\n",
       "                'plotly': ['https://cdn.plot.ly/plotly-2.12.1.min']\n",
       "            }\n",
       "        });\n",
       "        require(['plotly'], function(Plotly) {\n",
       "            window._Plotly = Plotly;\n",
       "        });\n",
       "        }\n",
       "        </script>\n",
       "        "
      ]
     },
     "metadata": {},
     "output_type": "display_data"
    }
   ],
   "source": [
    "import pandas as pd\n",
    "import numpy as np\n",
    "from tabula import read_pdf\n",
    "import matplotlib.pyplot as plt\n",
    "import seaborn as sns\n",
    "from plotly.offline import download_plotlyjs,init_notebook_mode,plot,iplot\n",
    "init_notebook_mode(connected=True)\n",
    "import cufflinks as cf\n",
    "cf.go_offline()\n",
    "import re\n",
    "import datetime\n",
    "import string\n",
    "from nltk.corpus import stopwords"
   ]
  },
  {
   "cell_type": "markdown",
   "id": "ea20cf6d",
   "metadata": {},
   "source": [
    "## Reading Data"
   ]
  },
  {
   "cell_type": "code",
   "execution_count": 221,
   "id": "10fb58fc",
   "metadata": {},
   "outputs": [],
   "source": [
    "hdfc=pd.read_excel('HDFC-15-Aug-21--23-May-22new.xls')\n",
    "\n",
    "idb=read_pdf('IDBI-15-Aug-21--23-May-22.pdf',output_format='dataframe',pages='all')\n",
    "idbi=pd.DataFrame(idb[0])\n",
    "\n",
    "canara=pd.read_csv('Canara-15-Aug-21--23-May-22new.CSV')\n",
    "\n",
    "sbi=pd.read_excel('SBI-15-Aug-21--23-May-23new.xlsx')"
   ]
  },
  {
   "cell_type": "markdown",
   "id": "2c553871",
   "metadata": {},
   "source": [
    "## Cleaning Data"
   ]
  },
  {
   "cell_type": "markdown",
   "id": "b5d0f9cb",
   "metadata": {},
   "source": [
    "#### Removing unnecessary columns"
   ]
  },
  {
   "cell_type": "markdown",
   "id": "f26e140c",
   "metadata": {},
   "source": [
    "**HDFC**"
   ]
  },
  {
   "cell_type": "code",
   "execution_count": 222,
   "id": "e8170db4",
   "metadata": {},
   "outputs": [],
   "source": [
    "hdfc.drop(['Value Dt','Chq./Ref.No.'],axis=1,inplace=True)"
   ]
  },
  {
   "cell_type": "code",
   "execution_count": 223,
   "id": "05564617",
   "metadata": {},
   "outputs": [],
   "source": [
    "hdfc.rename(columns={'Narration':'Desc','Withdrawal Amt.':'Debit',\n",
    "                     'Deposit Amt.':'Credit','Closing Balance':'Balance'},inplace=True)\n",
    "hdfc['Bank']='HDFC'"
   ]
  },
  {
   "cell_type": "markdown",
   "id": "f851bac6",
   "metadata": {},
   "source": [
    "**IDBI**"
   ]
  },
  {
   "cell_type": "code",
   "execution_count": 224,
   "id": "f3e231ec",
   "metadata": {},
   "outputs": [],
   "source": [
    "idbi.rename(columns={'Unnamed: 1':'Date','Unnamed: 3':'Desc',\n",
    "                     'Unnamed: 6':'Cr/Dr','Unnamed: 8':'Amount',\n",
    "                     'Unnamed: 9':'Balance'},inplace=True)"
   ]
  },
  {
   "cell_type": "code",
   "execution_count": 225,
   "id": "402d1409",
   "metadata": {},
   "outputs": [],
   "source": [
    "idbi.drop(['Unnamed: 0','Unnamed: 2','Unnamed: 4','Cheque','CC'],axis=1,inplace=True)\n",
    "idbi['Bank']='IDBI'"
   ]
  },
  {
   "cell_type": "markdown",
   "id": "98362e48",
   "metadata": {},
   "source": [
    "**CANARA**"
   ]
  },
  {
   "cell_type": "code",
   "execution_count": 226,
   "id": "ff0ac369",
   "metadata": {},
   "outputs": [],
   "source": [
    "canara.rename(columns={'Transaction Date':'Date','Description':'Desc','Balance\\t':'Balance'},inplace=True)"
   ]
  },
  {
   "cell_type": "code",
   "execution_count": 227,
   "id": "e68c50ef",
   "metadata": {},
   "outputs": [],
   "source": [
    "canara.drop(['Value Date','Cheque No.','Branch Code'],axis=1,inplace=True)\n",
    "canara['Bank']='CANARA'"
   ]
  },
  {
   "cell_type": "markdown",
   "id": "0e98c2fe",
   "metadata": {},
   "source": [
    "**SBI**"
   ]
  },
  {
   "cell_type": "code",
   "execution_count": 228,
   "id": "ba12cd5e",
   "metadata": {},
   "outputs": [],
   "source": [
    "sbi.rename(columns={'Txn Date':'Date','Description':'Desc','        Debit':'Debit'},inplace=True)"
   ]
  },
  {
   "cell_type": "code",
   "execution_count": 229,
   "id": "9c8f1213",
   "metadata": {},
   "outputs": [],
   "source": [
    "sbi.drop(['Value Date','Ref No./Cheque No.'],axis=1,inplace=True)\n",
    "sbi['Bank']='SBI'"
   ]
  },
  {
   "cell_type": "markdown",
   "id": "61c1e10b",
   "metadata": {},
   "source": [
    "**Obtaining date from date-time for SBI entries**"
   ]
  },
  {
   "cell_type": "code",
   "execution_count": 230,
   "id": "44bf539c",
   "metadata": {},
   "outputs": [],
   "source": [
    "sbi1=sbi.copy()"
   ]
  },
  {
   "cell_type": "code",
   "execution_count": 231,
   "id": "a555d9b3",
   "metadata": {},
   "outputs": [],
   "source": [
    "sbi1['Date']=sbi['Date'].apply(lambda x:x.strftime(\"%d-%m-%y\") if type(x) not in [float,str] else x)"
   ]
  },
  {
   "cell_type": "markdown",
   "id": "2a22bbfb",
   "metadata": {},
   "source": [
    "#### Joining canara, sbi and hdfc "
   ]
  },
  {
   "cell_type": "code",
   "execution_count": 232,
   "id": "ad0f00e5",
   "metadata": {},
   "outputs": [],
   "source": [
    "Banks0=pd.concat([canara,hdfc,sbi1])"
   ]
  },
  {
   "cell_type": "markdown",
   "id": "7529e49f",
   "metadata": {},
   "source": [
    "**A function to remove comma from columns containing cash values and converting other irrelevant entries to 'nan'**"
   ]
  },
  {
   "cell_type": "code",
   "execution_count": 233,
   "id": "b1eae37b",
   "metadata": {},
   "outputs": [],
   "source": [
    "def rem_comma(word):\n",
    "    if type(word)==str and word[0] in '1 2 3 4 5 6 7 8 9 0 -'.split():\n",
    "        letters=[c for c in word if c!=',']\n",
    "        word=\"\".join(letters)\n",
    "        return float(word)\n",
    "    if type(word) in (float,int):\n",
    "        return word\n",
    "    else:\n",
    "        return np.nan "
   ]
  },
  {
   "cell_type": "code",
   "execution_count": 234,
   "id": "0ae3bc23",
   "metadata": {},
   "outputs": [],
   "source": [
    "Banks1=Banks0.copy()\n",
    "idbi1=idbi.copy()"
   ]
  },
  {
   "cell_type": "code",
   "execution_count": 235,
   "id": "f0c0cec3",
   "metadata": {},
   "outputs": [],
   "source": [
    "Banks1['Debit']=Banks1['Debit'].apply(rem_comma)\n",
    "Banks1['Credit']=Banks1['Credit'].apply(rem_comma)\n",
    "Banks1['Balance']=Banks1['Balance'].apply(rem_comma)\n",
    "idbi1['Balance']=idbi1['Balance'].apply(rem_comma)\n",
    "idbi1['Amount']=idbi1['Amount'].apply(rem_comma)"
   ]
  },
  {
   "cell_type": "markdown",
   "id": "3dd61738",
   "metadata": {},
   "source": [
    "#### Removing rows with nulls"
   ]
  },
  {
   "cell_type": "code",
   "execution_count": 236,
   "id": "43c6774b",
   "metadata": {},
   "outputs": [],
   "source": [
    "Banks2=Banks1.copy()\n",
    "idbi2=idbi1.copy()"
   ]
  },
  {
   "cell_type": "code",
   "execution_count": 237,
   "id": "c2c6c916",
   "metadata": {},
   "outputs": [],
   "source": [
    "idbi2=idbi2[idbi2['Balance'].notna()]\n",
    "Banks2=Banks2[Banks2['Balance'].notna()]\n",
    "Banks2=Banks2[Banks2['Desc'].notna()]"
   ]
  },
  {
   "cell_type": "markdown",
   "id": "19398cb7",
   "metadata": {},
   "source": [
    "**Resetting index**"
   ]
  },
  {
   "cell_type": "code",
   "execution_count": 238,
   "id": "f553844a",
   "metadata": {},
   "outputs": [],
   "source": [
    "Banks2.reset_index(inplace=True,drop=True)\n",
    "idbi2.reset_index(inplace=True,drop=True)"
   ]
  },
  {
   "cell_type": "markdown",
   "id": "61c1e10b",
   "metadata": {},
   "source": [
    "**Obtaining date from date-time for idbi entries**"
   ]
  },
  {
   "cell_type": "code",
   "execution_count": 239,
   "id": "e85229a4",
   "metadata": {},
   "outputs": [],
   "source": [
    "idbi3=idbi2.copy()"
   ]
  },
  {
   "cell_type": "code",
   "execution_count": 240,
   "id": "b5d1b8ae",
   "metadata": {},
   "outputs": [],
   "source": [
    "for a in idbi3.index:\n",
    "    date=idbi3['Date'].iloc[a].split()\n",
    "    idbi3['Date'].iloc[a]=date[0]"
   ]
  },
  {
   "cell_type": "markdown",
   "id": "e0a33353",
   "metadata": {},
   "source": [
    "#### Converting 'Debit' and 'Credit' column into a single 'Amount' Column"
   ]
  },
  {
   "cell_type": "code",
   "execution_count": 241,
   "id": "a05b3578",
   "metadata": {},
   "outputs": [],
   "source": [
    "Banks3=Banks2.copy()"
   ]
  },
  {
   "cell_type": "code",
   "execution_count": 242,
   "id": "c7a14176",
   "metadata": {},
   "outputs": [],
   "source": [
    "Banks3['Amount']=np.nan\n",
    "\n",
    "for a in Banks3.index:\n",
    "    deb=Banks3['Debit'].iloc[a]\n",
    "    cred=Banks3['Credit'].iloc[a]\n",
    "    if pd.notna(deb):\n",
    "        Banks3['Amount'].iloc[a]=deb*(-1)\n",
    "    else:\n",
    "        Banks3['Amount'].iloc[a]=cred"
   ]
  },
  {
   "cell_type": "code",
   "execution_count": 243,
   "id": "c69bb8f4",
   "metadata": {},
   "outputs": [],
   "source": [
    "Banks3.drop(['Debit','Credit'],axis=1,inplace=True)"
   ]
  },
  {
   "cell_type": "code",
   "execution_count": 244,
   "id": "ee5e7ea7",
   "metadata": {},
   "outputs": [],
   "source": [
    "cols=['Date','Desc','Amount','Balance','Bank']\n",
    "Banks3=Banks3[cols]"
   ]
  },
  {
   "cell_type": "code",
   "execution_count": 245,
   "id": "1132d7ee",
   "metadata": {},
   "outputs": [],
   "source": [
    "idbi4=idbi3.copy()"
   ]
  },
  {
   "cell_type": "code",
   "execution_count": 246,
   "id": "9b3817a6",
   "metadata": {},
   "outputs": [],
   "source": [
    "for a in idbi4.index:\n",
    "    b=idbi4['Cr/Dr'].iloc[a]\n",
    "    if b=='Dr.':\n",
    "        idbi4['Amount'].iloc[a]*=(-1)"
   ]
  },
  {
   "cell_type": "code",
   "execution_count": 247,
   "id": "f356cd26",
   "metadata": {},
   "outputs": [],
   "source": [
    "idbi4.drop('Cr/Dr',axis=1,inplace=True)"
   ]
  },
  {
   "cell_type": "markdown",
   "id": "4d287676",
   "metadata": {},
   "source": [
    "#### Joining idbi  data to other 3 banks"
   ]
  },
  {
   "cell_type": "code",
   "execution_count": 248,
   "id": "d86e72be",
   "metadata": {},
   "outputs": [],
   "source": [
    "Banks4=pd.concat([Banks3,idbi4])"
   ]
  },
  {
   "cell_type": "code",
   "execution_count": 249,
   "id": "a1138f72",
   "metadata": {},
   "outputs": [],
   "source": [
    "Banks4.reset_index(inplace=True, drop =True)"
   ]
  },
  {
   "cell_type": "markdown",
   "id": "9c3f0e6c",
   "metadata": {},
   "source": [
    "#### Ordering by date"
   ]
  },
  {
   "cell_type": "code",
   "execution_count": 250,
   "id": "413fe8a7",
   "metadata": {},
   "outputs": [],
   "source": [
    "Banks4['Date']=pd.to_datetime(Banks4['Date'],dayfirst=True)"
   ]
  },
  {
   "cell_type": "code",
   "execution_count": 251,
   "id": "4581aea0",
   "metadata": {},
   "outputs": [],
   "source": [
    "Banks4.sort_values(by='Date',inplace=True)\n",
    "Banks4.reset_index(inplace=True,drop=True)"
   ]
  },
  {
   "cell_type": "markdown",
   "id": "cdc88eb1",
   "metadata": {},
   "source": [
    "## Data Engineering"
   ]
  },
  {
   "cell_type": "markdown",
   "id": "5def0016",
   "metadata": {},
   "source": [
    "#### Finding dates from Desc column"
   ]
  },
  {
   "cell_type": "code",
   "execution_count": 252,
   "id": "80b12720",
   "metadata": {},
   "outputs": [],
   "source": [
    "Banks5=Banks4.copy()"
   ]
  },
  {
   "cell_type": "code",
   "execution_count": 253,
   "id": "6964e87b",
   "metadata": {},
   "outputs": [],
   "source": [
    "def find_date(desc):\n",
    "    dates1=re.findall(r'\\d{2}-\\d{2}-\\d{4}',desc)\n",
    "    dates2=re.findall(r'\\d{2}/\\d{2}/\\d{4}',desc)\n",
    "    dates3=re.findall(r'\\d{2}/\\d{2}/\\d{2}',desc)\n",
    "    if len(dates1)>0:\n",
    "        return dates1\n",
    "    if len(dates2)>0:\n",
    "        return dates2\n",
    "    if len(dates3)>0:\n",
    "        return dates3\n",
    "    else:\n",
    "         return []"
   ]
  },
  {
   "cell_type": "markdown",
   "id": "831e6f6d",
   "metadata": {},
   "source": [
    "#### Finding acc no from Desc column"
   ]
  },
  {
   "cell_type": "code",
   "execution_count": 254,
   "id": "ee7f87db",
   "metadata": {},
   "outputs": [],
   "source": [
    "def find_accno(desc):\n",
    "    accno1=re.findall(r'\\d{12}',desc)\n",
    "    if len(accno1)>0:\n",
    "        return accno1\n",
    "    else:\n",
    "        return []"
   ]
  },
  {
   "cell_type": "code",
   "execution_count": 255,
   "id": "b5039f99",
   "metadata": {},
   "outputs": [],
   "source": [
    "Banks5['Dates_Desc']=Banks5.Desc.apply(find_date)\n",
    "Banks5['Nums_Desc']=Banks5.Desc.apply(find_accno)"
   ]
  },
  {
   "cell_type": "markdown",
   "id": "28583f0b",
   "metadata": {},
   "source": [
    "#### Removing dates and accno from Desc column"
   ]
  },
  {
   "cell_type": "code",
   "execution_count": 256,
   "id": "96c80b57",
   "metadata": {},
   "outputs": [],
   "source": [
    "def rem_items(desc,dates,accno):\n",
    "    for d in dates:\n",
    "        desc=desc.replace(d,'')\n",
    "    for a in accno:\n",
    "        desc=desc.replace(a,'')\n",
    "    return desc"
   ]
  },
  {
   "cell_type": "code",
   "execution_count": 257,
   "id": "84635082",
   "metadata": {},
   "outputs": [],
   "source": [
    "Banks5['New_Desc']=Banks5.apply(lambda x: rem_items(x.Desc,x.Dates_Desc,x.Nums_Desc), axis=1)"
   ]
  },
  {
   "cell_type": "markdown",
   "id": "dcbce2ce",
   "metadata": {},
   "source": [
    "#### Splitting Desc into words"
   ]
  },
  {
   "cell_type": "code",
   "execution_count": 258,
   "id": "3bac6a3a",
   "metadata": {},
   "outputs": [],
   "source": [
    "def splitter(desc):\n",
    "    max_len=1\n",
    "    for a in [c for c in string.punctuation+' ']:\n",
    "        splt=list(filter(None,desc.split(a)))\n",
    "        if len(splt)>max_len:\n",
    "            max_len=len(splt)\n",
    "            words=splt\n",
    "    return words"
   ]
  },
  {
   "cell_type": "code",
   "execution_count": 259,
   "id": "f8648aff",
   "metadata": {},
   "outputs": [],
   "source": [
    "Banks5['Words']=Banks5.New_Desc.apply(splitter)"
   ]
  },
  {
   "cell_type": "markdown",
   "id": "029d0f72",
   "metadata": {},
   "source": [
    "**Number of words in Desc**"
   ]
  },
  {
   "cell_type": "code",
   "execution_count": 260,
   "id": "8dbb695d",
   "metadata": {},
   "outputs": [],
   "source": [
    "Banks5['Number of Words']=Banks5.Words.apply(len)"
   ]
  },
  {
   "cell_type": "code",
   "execution_count": 261,
   "id": "8cb99b6f",
   "metadata": {},
   "outputs": [
    {
     "data": {
      "text/plain": [
       "8     458\n",
       "3      38\n",
       "4      33\n",
       "5      27\n",
       "6      25\n",
       "2      16\n",
       "7      15\n",
       "10      3\n",
       "Name: Number of Words, dtype: int64"
      ]
     },
     "execution_count": 261,
     "metadata": {},
     "output_type": "execute_result"
    }
   ],
   "source": [
    "Banks5['Number of Words'].value_counts()"
   ]
  },
  {
   "cell_type": "markdown",
   "id": "52be6428",
   "metadata": {},
   "source": [
    "#### Removing stock words from Word list"
   ]
  },
  {
   "cell_type": "code",
   "execution_count": 262,
   "id": "ec760011",
   "metadata": {},
   "outputs": [],
   "source": [
    "Banks6=Banks5.copy()"
   ]
  },
  {
   "cell_type": "code",
   "execution_count": 263,
   "id": "3721faa0",
   "metadata": {},
   "outputs": [],
   "source": [
    "def rem_stock(words):\n",
    "    words=[word for word in words if word.lower() not in stopwords.words('english')]\n",
    "    return words"
   ]
  },
  {
   "cell_type": "code",
   "execution_count": 264,
   "id": "c8bdb7ee",
   "metadata": {},
   "outputs": [],
   "source": [
    "Banks6.Words=Banks6.Words.apply(rem_stock)"
   ]
  },
  {
   "cell_type": "markdown",
   "id": "d8688bec",
   "metadata": {},
   "source": [
    "**Updated number of words**"
   ]
  },
  {
   "cell_type": "code",
   "execution_count": 265,
   "id": "d88e1e29",
   "metadata": {},
   "outputs": [],
   "source": [
    "Banks6['Number of Words']=Banks6.Words.apply(len)"
   ]
  },
  {
   "cell_type": "code",
   "execution_count": 266,
   "id": "2b404605",
   "metadata": {},
   "outputs": [
    {
     "data": {
      "text/plain": [
       "8    457\n",
       "4     52\n",
       "3     41\n",
       "5     20\n",
       "2     17\n",
       "7     16\n",
       "6     12\n",
       "Name: Number of Words, dtype: int64"
      ]
     },
     "execution_count": 266,
     "metadata": {},
     "output_type": "execute_result"
    }
   ],
   "source": [
    "Banks6['Number of Words'].value_counts()"
   ]
  },
  {
   "cell_type": "markdown",
   "id": "8040fd2a",
   "metadata": {},
   "source": [
    "#### Finding UPI ID from Desc"
   ]
  },
  {
   "cell_type": "code",
   "execution_count": 267,
   "id": "308d087c",
   "metadata": {},
   "outputs": [],
   "source": [
    "Banks7=Banks6.copy()"
   ]
  },
  {
   "cell_type": "code",
   "execution_count": 268,
   "id": "2637d8f0",
   "metadata": {},
   "outputs": [],
   "source": [
    "def find_upiid(words):\n",
    "    id=[word for word in words if '@' in [*word]]\n",
    "    return id"
   ]
  },
  {
   "cell_type": "code",
   "execution_count": 269,
   "id": "d6b8e1e7",
   "metadata": {},
   "outputs": [],
   "source": [
    "Banks7['Upi_Id']=Banks7.Words.apply(find_upiid)"
   ]
  },
  {
   "cell_type": "markdown",
   "id": "2127cc2c",
   "metadata": {},
   "source": [
    "#### Removing UPI ID from Desc"
   ]
  },
  {
   "cell_type": "code",
   "execution_count": 270,
   "id": "85479352",
   "metadata": {},
   "outputs": [],
   "source": [
    "def rem_upiid(words,id):\n",
    "    if len(id)>0:\n",
    "        words.remove(id[0])\n",
    "    return words"
   ]
  },
  {
   "cell_type": "code",
   "execution_count": 271,
   "id": "ce1c434a",
   "metadata": {},
   "outputs": [],
   "source": [
    "Banks7['Words']=Banks7.apply(lambda x: rem_upiid(x.Words,x.Upi_Id), axis=1)"
   ]
  },
  {
   "cell_type": "markdown",
   "id": "5a2738d8",
   "metadata": {},
   "source": [
    "**New Number of words**"
   ]
  },
  {
   "cell_type": "code",
   "execution_count": 272,
   "id": "756f52f6",
   "metadata": {},
   "outputs": [
    {
     "data": {
      "text/plain": [
       "7    462\n",
       "4     53\n",
       "3     41\n",
       "5     19\n",
       "2     17\n",
       "6     14\n",
       "8      9\n",
       "Name: Number of Words, dtype: int64"
      ]
     },
     "execution_count": 272,
     "metadata": {},
     "output_type": "execute_result"
    }
   ],
   "source": [
    "Banks7['Number of Words']=Banks7.Words.apply(len)\n",
    "Banks7['Number of Words'].value_counts()"
   ]
  },
  {
   "cell_type": "markdown",
   "id": "e6722004",
   "metadata": {},
   "source": [
    "#### Finding starred numbers"
   ]
  },
  {
   "cell_type": "code",
   "execution_count": 273,
   "id": "f1139122",
   "metadata": {},
   "outputs": [],
   "source": [
    "Banks8=Banks7.copy()"
   ]
  },
  {
   "cell_type": "code",
   "execution_count": 274,
   "id": "513153f8",
   "metadata": {},
   "outputs": [],
   "source": [
    "Banks8.Desc=Banks8.New_Desc"
   ]
  },
  {
   "cell_type": "code",
   "execution_count": 275,
   "id": "3459c870",
   "metadata": {},
   "outputs": [],
   "source": [
    "Banks8.drop(['Dates_Desc','Upi_Id','New_Desc','Nums_Desc'],axis=1,inplace=True)"
   ]
  },
  {
   "cell_type": "code",
   "execution_count": 276,
   "id": "546106b4",
   "metadata": {},
   "outputs": [
    {
     "data": {
      "text/html": [
       "<div>\n",
       "<style scoped>\n",
       "    .dataframe tbody tr th:only-of-type {\n",
       "        vertical-align: middle;\n",
       "    }\n",
       "\n",
       "    .dataframe tbody tr th {\n",
       "        vertical-align: top;\n",
       "    }\n",
       "\n",
       "    .dataframe thead th {\n",
       "        text-align: right;\n",
       "    }\n",
       "</style>\n",
       "<table border=\"1\" class=\"dataframe\">\n",
       "  <thead>\n",
       "    <tr style=\"text-align: right;\">\n",
       "      <th></th>\n",
       "      <th>Date</th>\n",
       "      <th>Desc</th>\n",
       "      <th>Amount</th>\n",
       "      <th>Balance</th>\n",
       "      <th>Bank</th>\n",
       "      <th>Words</th>\n",
       "      <th>Number of Words</th>\n",
       "    </tr>\n",
       "  </thead>\n",
       "  <tbody>\n",
       "    <tr>\n",
       "      <th>0</th>\n",
       "      <td>2021-06-08</td>\n",
       "      <td>SMS_CHARGE_FOR_JAN21_TO_MAR21</td>\n",
       "      <td>-17.70</td>\n",
       "      <td>13190.35</td>\n",
       "      <td>IDBI</td>\n",
       "      <td>[SMS, CHARGE, JAN21, MAR21]</td>\n",
       "      <td>4</td>\n",
       "    </tr>\n",
       "    <tr>\n",
       "      <th>1</th>\n",
       "      <td>2021-06-26</td>\n",
       "      <td>Int.: To</td>\n",
       "      <td>99.00</td>\n",
       "      <td>13289.35</td>\n",
       "      <td>IDBI</td>\n",
       "      <td>[Int, : To ]</td>\n",
       "      <td>2</td>\n",
       "    </tr>\n",
       "    <tr>\n",
       "      <th>2</th>\n",
       "      <td>2021-07-17</td>\n",
       "      <td>KFC_2132IE0600005798</td>\n",
       "      <td>-0.15</td>\n",
       "      <td>13289.20</td>\n",
       "      <td>IDBI</td>\n",
       "      <td>[KFC, 2132IE0600005798]</td>\n",
       "      <td>2</td>\n",
       "    </tr>\n",
       "    <tr>\n",
       "      <th>3</th>\n",
       "      <td>2021-07-30</td>\n",
       "      <td>ANNUAL_CARDFEE_403839******3694_JUL21</td>\n",
       "      <td>-259.60</td>\n",
       "      <td>13029.60</td>\n",
       "      <td>IDBI</td>\n",
       "      <td>[ANNUAL, CARDFEE, 403839******3694, JUL21]</td>\n",
       "      <td>4</td>\n",
       "    </tr>\n",
       "    <tr>\n",
       "      <th>4</th>\n",
       "      <td>2021-08-17</td>\n",
       "      <td>TO TRANSFER-INB Avenues India Private Lim--</td>\n",
       "      <td>-470.82</td>\n",
       "      <td>9526.61</td>\n",
       "      <td>SBI</td>\n",
       "      <td>[TRANSFER-INB, Avenues, India, Private, Lim--]</td>\n",
       "      <td>5</td>\n",
       "    </tr>\n",
       "  </tbody>\n",
       "</table>\n",
       "</div>"
      ],
      "text/plain": [
       "        Date                                            Desc  Amount  \\\n",
       "0 2021-06-08                   SMS_CHARGE_FOR_JAN21_TO_MAR21  -17.70   \n",
       "1 2021-06-26                                       Int.: To    99.00   \n",
       "2 2021-07-17                            KFC_2132IE0600005798   -0.15   \n",
       "3 2021-07-30           ANNUAL_CARDFEE_403839******3694_JUL21 -259.60   \n",
       "4 2021-08-17     TO TRANSFER-INB Avenues India Private Lim-- -470.82   \n",
       "\n",
       "    Balance  Bank                                           Words  \\\n",
       "0  13190.35  IDBI                     [SMS, CHARGE, JAN21, MAR21]   \n",
       "1  13289.35  IDBI                                    [Int, : To ]   \n",
       "2  13289.20  IDBI                         [KFC, 2132IE0600005798]   \n",
       "3  13029.60  IDBI      [ANNUAL, CARDFEE, 403839******3694, JUL21]   \n",
       "4   9526.61   SBI  [TRANSFER-INB, Avenues, India, Private, Lim--]   \n",
       "\n",
       "   Number of Words  \n",
       "0                4  \n",
       "1                2  \n",
       "2                2  \n",
       "3                4  \n",
       "4                5  "
      ]
     },
     "execution_count": 276,
     "metadata": {},
     "output_type": "execute_result"
    }
   ],
   "source": [
    "Banks8.head()"
   ]
  },
  {
   "cell_type": "code",
   "execution_count": 277,
   "id": "65e90488",
   "metadata": {},
   "outputs": [],
   "source": [
    "def find_star_nums(words):\n",
    "    star_nums=[word for word in words if ('*' in [*word])and(word.replace('*','').isnumeric())]\n",
    "    return star_nums"
   ]
  },
  {
   "cell_type": "code",
   "execution_count": 278,
   "id": "8ec80534",
   "metadata": {},
   "outputs": [],
   "source": [
    "Banks8['Star_num']=Banks8.Words.apply(find_star_nums)"
   ]
  },
  {
   "cell_type": "code",
   "execution_count": 279,
   "id": "67e13d4f",
   "metadata": {},
   "outputs": [
    {
     "data": {
      "text/plain": [
       "3      [403839******3694]\n",
       "6                [**9763]\n",
       "10               [**9763]\n",
       "61                  [**1]\n",
       "149              [**4384]\n",
       "323         [**033264384]\n",
       "343                [**74]\n",
       "353                [**74]\n",
       "397                [**74]\n",
       "Name: Star_num, dtype: object"
      ]
     },
     "execution_count": 279,
     "metadata": {},
     "output_type": "execute_result"
    }
   ],
   "source": [
    "Banks8.loc[Banks8.Star_num.apply(len)==1,'Star_num']"
   ]
  },
  {
   "cell_type": "markdown",
   "id": "1ab05287",
   "metadata": {},
   "source": [
    "#### Removing starred numbers"
   ]
  },
  {
   "cell_type": "code",
   "execution_count": 280,
   "id": "6e7e03bb",
   "metadata": {},
   "outputs": [],
   "source": [
    "def rem_star_nums(words,stars):\n",
    "    if len(stars)>0:\n",
    "        words.remove(stars[0])\n",
    "    return words"
   ]
  },
  {
   "cell_type": "code",
   "execution_count": 281,
   "id": "2c3a728d",
   "metadata": {},
   "outputs": [],
   "source": [
    "Banks8['Words']=Banks8.apply(lambda x: rem_star_nums(x.Words,x.Star_num), axis=1)"
   ]
  },
  {
   "cell_type": "markdown",
   "id": "5a2738d8",
   "metadata": {},
   "source": [
    "**New Number of words**"
   ]
  },
  {
   "cell_type": "code",
   "execution_count": 282,
   "id": "756f52f6",
   "metadata": {},
   "outputs": [
    {
     "data": {
      "text/plain": [
       "7    467\n",
       "4     49\n",
       "3     45\n",
       "5     19\n",
       "2     17\n",
       "6     14\n",
       "8      4\n",
       "Name: Number of Words, dtype: int64"
      ]
     },
     "execution_count": 282,
     "metadata": {},
     "output_type": "execute_result"
    }
   ],
   "source": [
    "Banks8['Number of Words']=Banks8.Words.apply(len)\n",
    "Banks8['Number of Words'].value_counts()"
   ]
  },
  {
   "cell_type": "markdown",
   "id": "22581403",
   "metadata": {},
   "source": [
    "#### Removing Transaction Codes"
   ]
  },
  {
   "cell_type": "code",
   "execution_count": 283,
   "id": "2cc80c64",
   "metadata": {},
   "outputs": [],
   "source": [
    "Banks9=Banks8.copy()"
   ]
  },
  {
   "cell_type": "code",
   "execution_count": 284,
   "id": "e726cdca",
   "metadata": {},
   "outputs": [],
   "source": [
    "def find_trancodes(words):\n",
    "    tcodes=[word for word in words if (word.isalnum())and(word.isalpha()==False)]\n",
    "    return tcodes"
   ]
  },
  {
   "cell_type": "code",
   "execution_count": 285,
   "id": "35bd7e27",
   "metadata": {},
   "outputs": [],
   "source": [
    "Banks9['Tcodes']=Banks9.Words.apply(find_trancodes)"
   ]
  },
  {
   "cell_type": "code",
   "execution_count": 286,
   "id": "daa74156",
   "metadata": {},
   "outputs": [
    {
     "data": {
      "text/plain": [
       "0                             [JAN21, MAR21]\n",
       "1                                         []\n",
       "2                         [2132IE0600005798]\n",
       "3                                    [JUL21]\n",
       "4                                         []\n",
       "                       ...                  \n",
       "610    [ICI5d3ac77e7dbd4290982c3d0e3d1ce59b]\n",
       "611                                   [9540]\n",
       "612    [HDF3d563ab063fc40f78eadc03231e36074]\n",
       "613    [ICIb566a4bb85de4d0e9dace31ceaf2642a]\n",
       "614    [ICI9c6230abb9e14bdd8b467d2eefeb9d2e]\n",
       "Name: Tcodes, Length: 615, dtype: object"
      ]
     },
     "execution_count": 286,
     "metadata": {},
     "output_type": "execute_result"
    }
   ],
   "source": [
    "Banks9.Tcodes"
   ]
  },
  {
   "cell_type": "code",
   "execution_count": 288,
   "id": "d36b33ec",
   "metadata": {},
   "outputs": [
    {
     "data": {
      "text/plain": [
       "['GOOGLE*YouTubePremiumg.co', 'helppay#CAUS- 12:36:44', '9540']"
      ]
     },
     "execution_count": 288,
     "metadata": {},
     "output_type": "execute_result"
    }
   ],
   "source": [
    "Banks8.Words.iloc[611]"
   ]
  },
  {
   "cell_type": "code",
   "execution_count": null,
   "id": "1bd05d65",
   "metadata": {},
   "outputs": [],
   "source": [
    "Banks['POI']='Unknown'\n",
    "a=0\n",
    "for a in range(Banks['Date'].count()):\n",
    "    desc=Banks['Desc'].iloc[a]\n",
    "    if desc[0:3]=='UPI':\n",
    "        clues=desc.split('/')\n",
    "        if len(clues)>3:\n",
    "            Banks['POI'].iloc[a]=clues[3].lower()\n",
    "            if clues[6]=='membersh':\n",
    "                Banks['POI'].iloc[a]='Toastmasters'\n",
    "    a+=1"
   ]
  },
  {
   "cell_type": "code",
   "execution_count": null,
   "id": "be94cdfe",
   "metadata": {},
   "outputs": [],
   "source": [
    "POI_idbi=['int.','sms','ganesh','kripa','refund','petroleum','donot','cash','cardfee','kfc']\n",
    "POI_sbi=['avenues','bsnl','apy','thathanatt','fortune','medicalcentrernakulam','interest','sudeendhra','amazon',\n",
    "         'teekoy','fruits','bulk','9447375729','p2a','boutiqernakulam','fuels','atm','more','pavilion','makemytrip',\n",
    "         'ganesh','iit','irctc','bigtree','refund','sbilt']\n",
    "POI_hdfc=['ganeshmohan','navaratna','interest','ganesh','p2p','fee','nwd','midhun','hospital','thathanatt']\n",
    "POI_canara=['google','charges','ib','netflix','canva','amazonpayindiapriva','sbint','netflixentertainment',\n",
    "            'ganeshmoha','wwwamazonin','googleplaymumbaiin','googleyoutubepremium','ecs','ibpsmumbaiin','ganesh']"
   ]
  },
  {
   "cell_type": "code",
   "execution_count": null,
   "id": "e8d08d89",
   "metadata": {},
   "outputs": [],
   "source": [
    "\"\"\"POI assignation\"\"\"\n",
    "a=0\n",
    "for a in range(Banks['Date'].count()):\n",
    "    bank=Banks['Bank'].iloc[a]\n",
    "    desc=Banks['Desc'].iloc[a]\n",
    "    poi=Banks['POI'].iloc[a]\n",
    "    clues=re.split('-|_|/| |:',desc)\n",
    "    if bank=='IDBI':\n",
    "        b=0\n",
    "        for b in range(len(clues)):\n",
    "            if clues[b].lower() in POI_idbi:\n",
    "                Banks['POI'].iloc[a]=clues[b].lower()\n",
    "                break\n",
    "            b+=1\n",
    "    if bank=='SBI':\n",
    "        b=0\n",
    "        for b in range(len(clues)):\n",
    "            if clues[b].lower() in POI_sbi:\n",
    "                Banks['POI'].iloc[a]=clues[b].lower()\n",
    "                break\n",
    "            b+=1\n",
    "    if bank=='HDFC':\n",
    "        b=0\n",
    "        for b in range(len(clues)):\n",
    "            if clues[b].lower() in POI_hdfc:\n",
    "                Banks['POI'].iloc[a]=clues[b].lower()\n",
    "                break\n",
    "            b+=1\n",
    "    if (bank=='CANARA')and(poi=='Unknown'):\n",
    "        b=0\n",
    "        for b in range(len(clues)):\n",
    "            if clues[b].lower() in POI_canara:\n",
    "                Banks['POI'].iloc[a]=clues[b].lower()\n",
    "                break\n",
    "            b+=1\n",
    "    \n",
    "    a+=1"
   ]
  },
  {
   "cell_type": "code",
   "execution_count": null,
   "id": "b8252ef8",
   "metadata": {},
   "outputs": [],
   "source": [
    "\"\"\"The rest of the POI for sbi and canara\"\"\"\n",
    "a=0\n",
    "for a in range(Banks['Date'].count()):\n",
    "    bank=Banks['Bank'].iloc[a]\n",
    "    desc=Banks['Desc'].iloc[a]\n",
    "    poi=Banks['POI'].iloc[a]\n",
    "    clues1=re.split('1|2|3|4|5|6|7|8|9|0| |-|,',desc)\n",
    "    clues2=desc.split('*')\n",
    "    clues3=desc.split('(')\n",
    "    if poi=='Unknown':\n",
    "        b=0\n",
    "        for b in range(len(clues1)):\n",
    "            if clues1[b].lower() in POI_sbi+POI_canara:\n",
    "                Banks['POI'].iloc[a]=clues1[b].lower()\n",
    "                break\n",
    "            b+=1\n",
    "        b=0\n",
    "        for b in range(len(clues2)):\n",
    "            clues=re.split('1|2|3|4|5|6|7|8|9|0| |-|,',clues2[b])\n",
    "            c=0\n",
    "            for c in range(len(clues)):\n",
    "                if clues[c].lower() in POI_sbi+POI_canara:\n",
    "                    Banks['POI'].iloc[a]=clues[c].lower()\n",
    "                    break\n",
    "                c+=1\n",
    "            b+=1\n",
    "        b=0\n",
    "        for b in range(len(clues3)):\n",
    "            clues=clues3[b].split()\n",
    "            c=0\n",
    "            for c in range(len(clues)):\n",
    "                if clues[c].lower() in POI_sbi+POI_canara:\n",
    "                    Banks['POI'].iloc[a]=clues[c].lower()\n",
    "                    break\n",
    "                c+=1\n",
    "            b+=1\n",
    "    a+=1        "
   ]
  },
  {
   "cell_type": "code",
   "execution_count": null,
   "id": "6a742cc8",
   "metadata": {},
   "outputs": [],
   "source": [
    "\"\"\"Multiple names\"\"\"\n",
    "a=0\n",
    "for a in range(Banks['Date'].count()):\n",
    "    poi=Banks['POI'].iloc[a]\n",
    "    amt=Banks['Amount'].iloc[a]\n",
    "    if poi in ['ib','ganeshmohan','dummy name','9447375729','p2a','ganesh','ganeshmoha']:\n",
    "        Banks['POI'].iloc[a]='Ganesh'\n",
    "    if poi in ['aashishla','aashish  ']:\n",
    "        Banks['POI'].iloc[a]='Aashish'\n",
    "    if poi in ['geetha  c','sbilt','geetha c ']:\n",
    "        Banks['POI'].iloc[a]='Amma'\n",
    "    if poi in ['srikanth ']:\n",
    "        Banks['POI'].iloc[a]='Srikanth'\n",
    "    if poi in ['amal  c s']:\n",
    "        Banks['POI'].iloc[a]='Amal C'\n",
    "    if poi in ['netflix','netflixentertainment']:\n",
    "        Banks['POI'].iloc[a]='netflix'\n",
    "    if poi in ['emmanuel ','emmanuelb']:\n",
    "        Banks['POI'].iloc[a]='Emmanuel'\n",
    "    if poi in ['sreejith ']:\n",
    "        if amt<-100:\n",
    "            Banks['POI'].iloc[a]='Sreejith-Ril'\n",
    "        else:\n",
    "            Banks['POI'].iloc[a]='Sreejith'\n",
    "    if poi in ['midhun k','midhun']:\n",
    "        Banks['POI'].iloc[a]='Midhun'\n",
    "    if poi in ['rahul jay']:\n",
    "        Banks['POI'].iloc[a]='Rahul J'\n",
    "    if poi in ['uthara  t','amal  p t']:\n",
    "        Banks['POI'].iloc[a]='Amal PT'\n",
    "    if poi in ['arjun  ma']:\n",
    "        Banks['POI'].iloc[a]='Arjun Maku'\n",
    "    if poi in ['vishnu vi','vishnu.vi']:\n",
    "        Banks['POI'].iloc[a]='Vishnu V'\n",
    "    if poi in ['mahesh mo']:\n",
    "        Banks['POI'].iloc[a]='Mahesh'\n",
    "    if poi in ['mr athul ','athul joh']:\n",
    "        Banks['POI'].iloc[a]='Athul'\n",
    "    if poi in ['googleyoutubepremium','google']:\n",
    "        Banks['POI'].iloc[a]='Youtube'\n",
    "    if poi in ['harikrish','790230715']:\n",
    "        Banks['POI'].iloc[a]='Hari TS'\n",
    "    if poi in ['bibin  jo','bibin john']:\n",
    "        Banks['POI'].iloc[a]='Bibin'\n",
    "    if poi in ['amazon','amazonpayindiapriva','wwwamazonin']:\n",
    "        Banks['POI'].iloc[a]='amazon'\n",
    "    if poi in ['razorpaya','bharti ai']:\n",
    "        Banks['POI'].iloc[a]='Airtel'\n",
    "    if poi in ['thesreera','sreerag p']:\n",
    "        Banks['POI'].iloc[a]='sreerag p'\n",
    "    a+=1"
   ]
  },
  {
   "cell_type": "code",
   "execution_count": null,
   "id": "09a9e626",
   "metadata": {},
   "outputs": [],
   "source": [
    "SNVP=['Aashish','Srikanth','Midhun','Rahul J', 'sreeraj r','Hari TS','srinath r', 'Amal PT','p vinayak','Vishnu V',\n",
    "      'amal p j', 'kiran k s','vishnu t ','sreenath ','prashob p','Sreejith']\n",
    "Friends=['Amal C','Emmanuel','Sreejith-Ril','Arjun Maku','dharmendr','jnananshu','sreerag p', 'Athul', 'anjita n a',\n",
    "         'arya leks','hitesh ta', 'rahul  s','Mahesh','sam satya']\n",
    "pump=['thathanatt','fortune','k p vargh','hp petrol','kripa','kripa fue','teekoy','kp varghe','petroleum','thathanat',\n",
    "      'fuels','sasikumar','st thomas','raju ente','sterling ','io851683.']\n",
    "med=['medicalcentrernakulam','canva','sudeendhra', 'new st ma', 'ashraya m','doctors d','maria med','sevana me',\n",
    "     'netambit','alfaone r','mr. shaji','hospital','thripunit']\n",
    "foods=['taste   t','taste   t','binu r','k s sasi','Bibin','rajadhani','swiggy','manikutta','rafeek ar','aby tom n',\n",
    "       'donot','chempakam','ashraf ah','alma bake','hitachi p','abraham p','amani ear']\n",
    "stores=['sree kuma', 'venu  m  n', 'pulimoott', 'aiswarya ', 'edathileg', 'edathil e', 'easyday', 'muhammed',\n",
    "        'prime sup', 'sobhaslad','dressworld', 'merrina a', 'biju k k', 'boutiqernakulam', 'bharatpem', \n",
    "        'bharatpe.', 'fruits', 'more,', 'p k shefi','saimy geo', 'k s joseph','more','krishna  ','zgraphics',\n",
    "        'mariyam x','muhammed ','siraj  my','priyom ma','paris col','down town','safiyat h','h and c s']"
   ]
  },
  {
   "cell_type": "code",
   "execution_count": null,
   "id": "04228567",
   "metadata": {},
   "outputs": [],
   "source": [
    "\"\"\"Sub-Categories\"\"\"\n",
    "Banks['SubC']='Unknown'\n",
    "a=0\n",
    "for a in range(Banks['Date'].count()):\n",
    "    poi=Banks['POI'].iloc[a]\n",
    "    if poi in ['sms','kfc','cardfee','charges','navaratna','p2p','fee']:\n",
    "        Banks['SubC'].iloc[a]='Charges'\n",
    "    if poi in ['int.','googlepay','bulk','interest','sbint']:\n",
    "        Banks['SubC'].iloc[a]='Interest'\n",
    "    if poi in ['avenues','reliance ']:\n",
    "        Banks['SubC'].iloc[a]='Jio'\n",
    "    if poi in ['Youtube','netflix']:\n",
    "        Banks['SubC'].iloc[a]='TV'\n",
    "    if poi in ['Ganesh']:\n",
    "        Banks['SubC'].iloc[a]='Fund Transfer'\n",
    "    if poi in SNVP:\n",
    "        Banks['SubC'].iloc[a]='SNVP'\n",
    "    if poi in ['bsnl','Airtel']:\n",
    "        Banks['SubC'].iloc[a]='Mobile'\n",
    "    if poi in ['Amma']:\n",
    "        Banks['SubC'].iloc[a]='Amma'\n",
    "    if poi in Friends:\n",
    "        Banks['SubC'].iloc[a]='Friends'\n",
    "    if poi in ['apy']:\n",
    "        Banks['SubC'].iloc[a]='APY'\n",
    "    if poi in ['kiran s','unnikrish','iva sports','anusree  p','k s moham','pavilion']:\n",
    "        Banks['SubC'].iloc[a]='Badminton'\n",
    "    if poi in ['kotha sri']:\n",
    "        Banks['SubC'].iloc[a]='Haircut'\n",
    "    if poi in pump:\n",
    "        Banks['SubC'].iloc[a]='Petrol'\n",
    "    if poi in med or poi=='dunzo dig':\n",
    "        Banks['SubC'].iloc[a]='Meds'\n",
    "    if poi in ['neelatt g','bhasura v']:\n",
    "        Banks['SubC'].iloc[a]='Fund'\n",
    "    if poi in ['amazon','googleplaymumbaiin']:\n",
    "        Banks['SubC'].iloc[a]='Online'\n",
    "    if poi in ['razorpay','ibpsmumbaiin']:\n",
    "        Banks['SubC'].iloc[a]='Exam'\n",
    "    if poi in foods:\n",
    "        Banks['SubC'].iloc[a]='Food'\n",
    "    if poi in stores:\n",
    "        Banks['SubC'].iloc[a]='Purchase'\n",
    "    if poi in ['bigtree e', 'bigtree', 'v s ventu']:\n",
    "        Banks['SubC'].iloc[a]='Movie'\n",
    "    if poi in ['althaf v s', 'shameer  ']:\n",
    "        Banks['SubC'].iloc[a]='Trip'\n",
    "    if poi in ['bullet pa', 'suresh ku', 'smooth ri','mangalath']:\n",
    "        Banks['SubC'].iloc[a]='Vehicle'\n",
    "    if poi in ['makemytrip', 'olacabs', 'yatra','irctc','refund','ibibo gro']:\n",
    "        Banks['SubC'].iloc[a]='Travel'\n",
    "    if poi in ['ecs','iit']:\n",
    "        Banks['SubC'].iloc[a]='Income'\n",
    "    if poi in ['cash','atm','nwd']:\n",
    "        Banks['SubC'].iloc[a]='Cash'\n",
    "    if poi in ['astro 7 s']:\n",
    "        Banks['SubC'].iloc[a]='Football'\n",
    "    if poi in ['ajay  p a','jayesh b k','sylviya s','Toastmasters']:\n",
    "        Banks['SubC'].iloc[a]='Others'\n",
    "    a+=1"
   ]
  },
  {
   "cell_type": "code",
   "execution_count": null,
   "id": "478f525e",
   "metadata": {},
   "outputs": [],
   "source": [
    "\"\"\"Reasons for FRIENDS AND FAMILY transfers \"\"\"\n",
    "Banks['why']='Unknown'\n",
    "a=0\n",
    "for a in range(Banks['Date'].count()):\n",
    "    subc=Banks['SubC'].iloc[a]\n",
    "    if subc!='Friends' and subc!='SNVP' and subc!='Amma':\n",
    "        Banks['why'].iloc[a]='Known'\n",
    "    a+=1"
   ]
  },
  {
   "cell_type": "code",
   "execution_count": null,
   "id": "83ac5269",
   "metadata": {},
   "outputs": [],
   "source": [
    "a=0\n",
    "for a in range(Banks['Date'].count()):\n",
    "    desc=Banks['Desc'].iloc[a]\n",
    "    why=Banks['why'].iloc[a]\n",
    "    if (why=='Unknown')and(desc[0:3]=='UPI'):\n",
    "        clue=desc.split('/')[6]\n",
    "        Banks['why'].iloc[a]=clue\n",
    "    a+=1"
   ]
  },
  {
   "cell_type": "code",
   "execution_count": null,
   "id": "aadee2e1",
   "metadata": {},
   "outputs": [],
   "source": [
    "why_badmin=['badminton','sreeraj ','badminto','shuttle','sat badm','bat','hbat','batmi','iSports','Aashish ','oct 31st',\n",
    "            'new year']\n",
    "why_food=['snacks', 'dinner', 'pachola','kitkat c','food','cake', 'dosai', 'shake','LMN','nettoor ','brindhavan',\n",
    "          'french t','Pappaya ','pappaya', 'poem cafe', 'food ekm','cool cool','NM lunch','biriyani','lunch ve', \n",
    "          'Dinner','Chinnu h','me and n','NO REMARKS']"
   ]
  },
  {
   "cell_type": "code",
   "execution_count": null,
   "id": "2f33db95",
   "metadata": {},
   "outputs": [],
   "source": [
    "a=0\n",
    "for a in range(Banks['Date'].count()):\n",
    "    why=Banks['why'].iloc[a]\n",
    "    poi=Banks['POI'].iloc[a]\n",
    "    if why in why_badmin:\n",
    "        Banks['why'].iloc[a]='Known'\n",
    "        Banks['SubC'].iloc[a]='Badminton'\n",
    "    if why in why_food:\n",
    "        Banks['why'].iloc[a]='Known'\n",
    "        Banks['SubC'].iloc[a]='Food'\n",
    "    if why in ['Wagamon','trip','Tour','vagamon ','Goa trip','Varkala ','trip cash']:\n",
    "        Banks['why'].iloc[a]='Known'\n",
    "        Banks['SubC'].iloc[a]='Trip'\n",
    "    if why in ['gift','Me and A','gifts','Gift for','gift share','Kamath g','ashish']:\n",
    "        Banks['why'].iloc[a]='Known'\n",
    "        Banks['SubC'].iloc[a]='Gift'\n",
    "    if why in ['diary pu','fruits f','glass']:\n",
    "        Banks['why'].iloc[a]='Known'\n",
    "        Banks['SubC'].iloc[a]='Purchase'\n",
    "    if why in ['football']:\n",
    "        Banks['why'].iloc[a]='Known'\n",
    "        Banks['SubC'].iloc[a]='Football'\n",
    "    if why in ['petrol','petrol b', 'fuel tvm']:\n",
    "        Banks['why'].iloc[a]='Known'\n",
    "        Banks['SubC'].iloc[a]='Petrol'\n",
    "    if why in ['film','film cash','bheeshma']:\n",
    "        Banks['why'].iloc[a]='Known'\n",
    "        Banks['SubC'].iloc[a]='Movie'\n",
    "    if why in ['medicines','meds','t','meds and','medical ']:\n",
    "        Banks['why'].iloc[a]='Known'\n",
    "        Banks['SubC'].iloc[a]='Meds'\n",
    "    if why in ['lending','tinder','repayment']:\n",
    "        Banks['why'].iloc[a]='Known'\n",
    "        Banks['SubC'].iloc[a]='Loan'\n",
    "    if why in ['Unknown'] and poi=='Midhun':\n",
    "        Banks['why'].iloc[a]='Known'\n",
    "        Banks['SubC'].iloc[a]='Loan'  \n",
    "    if why in ['Unknown'] and poi=='Amma':\n",
    "        Banks['why'].iloc[a]='Known'\n",
    "        Banks['SubC'].iloc[a]='Fund'\n",
    "    if why in ['car fast'] and poi=='Amma':\n",
    "        Banks['why'].iloc[a]='Known'\n",
    "        Banks['SubC'].iloc[a]='Vehicle'\n",
    "    if why in ['cash']:\n",
    "        Banks['why'].iloc[a]='Known'\n",
    "        Banks['SubC'].iloc[a]='Cash'\n",
    "    if why in ['Netflix ','nov dec ','netflix']:\n",
    "        Banks['why'].iloc[a]='Known'\n",
    "        Banks['SubC'].iloc[a]='TV'\n",
    "    if why in ['cashback', 'test pas','test']:\n",
    "        Banks['why'].iloc[a]='Known'\n",
    "        Banks['SubC'].iloc[a]='Interest'\n",
    "    a+=1"
   ]
  },
  {
   "cell_type": "code",
   "execution_count": null,
   "id": "22f83712",
   "metadata": {},
   "outputs": [],
   "source": [
    "Badminton=['Aashish','Srikanth','Midhun','Rahul J', 'sreeraj r','Hari TS','srinath r', 'p vinayak',\n",
    "              'Vishnu V', 'amal p j', 'kiran k s','vishnu t ','sreenath ','Sreejith']"
   ]
  },
  {
   "cell_type": "code",
   "execution_count": null,
   "id": "3d2ca922",
   "metadata": {
    "scrolled": false
   },
   "outputs": [],
   "source": [
    "\"\"\"SPORTS DATES WHEN I PAID\"\"\"\n",
    "a=0\n",
    "for a in range(Banks['Date'].count()):\n",
    "    poi=Banks['POI'].iloc[a]\n",
    "    date=Banks['Date'].iloc[a]\n",
    "    if poi in ['kiran s','anusree  p','astro 7 s']:\n",
    "        Dates=[date+datetime.timedelta(i) for i in range(6)]\n",
    "        b=0\n",
    "        for b in range(a-20,615):\n",
    "            amt=Banks['Amount'].iloc[b]\n",
    "            poi=Banks['POI'].iloc[b]\n",
    "            why=Banks['why'].iloc[b]\n",
    "            date=Banks['Date'].iloc[b]\n",
    "            if (why!='Known')and(date in Dates)and(poi in Badminton)and(amt>0)and(amt<400):\n",
    "                Banks['why'].iloc[b]='Known'\n",
    "                Banks['SubC'].iloc[b]='Badminton'\n",
    "            b+=1\n",
    "    a+=1   "
   ]
  },
  {
   "cell_type": "code",
   "execution_count": null,
   "id": "6a5eb59e",
   "metadata": {},
   "outputs": [],
   "source": [
    "\"\"\"Based on data from Gpay\"\"\"\n",
    "Banks=Banks.append(Banks[Banks['Amount']==-920]) \n",
    "Banks=Banks.append(Banks[Banks['Amount']==1750])\n",
    "Banks.sort_values(by='Date',inplace=True)\n",
    "Banks.reset_index(inplace=True,drop=True)\n",
    "\n",
    "count1=0\n",
    "count2=0\n",
    "a=0\n",
    "for a in range(Banks['Date'].count()):\n",
    "    amt=Banks['Amount'].iloc[a]\n",
    "    poi=Banks['POI'].iloc[a]\n",
    "    date=Banks['Date'].iloc[a]\n",
    "    if amt==-920:\n",
    "        if count1==0:\n",
    "            Banks['Amount'].iloc[a]=-500\n",
    "            Banks['Balance'].iloc[a]=2420.71\n",
    "            Banks['SubC'].iloc[a]='Gift'\n",
    "            count1+=1\n",
    "        else:\n",
    "            Banks['Amount'].iloc[a]=-420\n",
    "            Banks['SubC'].iloc[a]='Meds'\n",
    "        Banks['why'].iloc[a]='Known'\n",
    "    if amt==1750:\n",
    "        if count2==0:\n",
    "            Banks['Amount'].iloc[a]=1500\n",
    "            Banks['Balance'].iloc[a]=2670.71\n",
    "            Banks['SubC'].iloc[a]='Loan'\n",
    "            count2+=1\n",
    "        else:\n",
    "            Banks['Amount'].iloc[a]=250\n",
    "            Banks['SubC'].iloc[a]='TV'\n",
    "        Banks['why'].iloc[a]='Known'\n",
    "    if amt in [-231,-164]:\n",
    "        Banks['SubC'].iloc[a]='Food'\n",
    "        Banks['why'].iloc[a]='Known'\n",
    "    if poi=='Sreejith-Ril':\n",
    "        Banks['SubC'].iloc[a]='Gift'\n",
    "        Banks['why'].iloc[a]='Known'\n",
    "    if poi=='Hari TS' and date==pd.to_datetime('2021-10-13') and why!='Known':\n",
    "        Banks['SubC'].iloc[a]='Trip'\n",
    "        Banks['why'].iloc[a]='Known'\n",
    "    if poi=='Amma' and date==pd.to_datetime('2021-10-29') and why!='Known':\n",
    "        Banks['SubC'].iloc[a]='Meds'\n",
    "        Banks['why'].iloc[a]='Known'\n",
    "    a+=1"
   ]
  },
  {
   "cell_type": "code",
   "execution_count": null,
   "id": "f9270825",
   "metadata": {},
   "outputs": [],
   "source": [
    "\"\"\"Purchase dates\"\"\"\n",
    "sponsor=['Amma','bhasura v']\n",
    "a=0\n",
    "for a in range(Banks['Date'].count()):\n",
    "    date=Banks['Date'].iloc[a]\n",
    "    subc=Banks['SubC'].iloc[a]\n",
    "    amt=Banks['Amount'].iloc[a]\n",
    "    if subc in ['Travel','Petrol','Jio'] and amt<=-400:\n",
    "        Date=date\n",
    "        Amt=round(amt*(-1))\n",
    "        b=0\n",
    "        for b in range(Banks['Date'].count()):\n",
    "            date=Banks['Date'].iloc[b]\n",
    "            poi=Banks['POI'].iloc[b]\n",
    "            amt=Banks['Amount'].iloc[b]\n",
    "            if date==Date and poi in ['Amma'] and amt>=Amt:\n",
    "                Banks['SubC'].iloc[b]=subc\n",
    "                Banks['why'].iloc[b]='Known'\n",
    "            b+=1\n",
    "    if subc in ['Purchase','Cash'] and amt<=-1000:\n",
    "        Date=date\n",
    "        b=0\n",
    "        for b in range(Banks['Date'].count()):\n",
    "            date=Banks['Date'].iloc[b]\n",
    "            poi=Banks['POI'].iloc[b]\n",
    "            if date==Date and poi in ['Amma','nwd'] :\n",
    "                Banks['SubC'].iloc[b]='Purchase'\n",
    "                Banks['why'].iloc[b]='Known'\n",
    "            b+=1\n",
    "    if subc in ['Movie'] and amt<-500:\n",
    "        Dates=[date+datetime.timedelta(i) for i in range(5)]\n",
    "        Amt=round(amt*(-1))\n",
    "        b=0\n",
    "        for b in range(Banks['Date'].count()):\n",
    "            date=Banks['Date'].iloc[b]\n",
    "            poi=Banks['POI'].iloc[b]\n",
    "            amt=Banks['Amount'].iloc[b]\n",
    "            if date in Dates and poi in sponsor and amt in range(Amt,Amt+30):\n",
    "                Banks['SubC'].iloc[b]='Movie'\n",
    "                Banks['why'].iloc[b]='Known'\n",
    "            b+=1\n",
    "    a+=1  "
   ]
  },
  {
   "cell_type": "code",
   "execution_count": null,
   "id": "9ea42ce6",
   "metadata": {},
   "outputs": [],
   "source": [
    "\"\"\"Loan Group\"\"\"\n",
    "Badmi_start=pd.to_datetime('2021-09-20')\n",
    "a=0\n",
    "for a in range(Banks['Date'].count()):\n",
    "    poi=Banks['POI'].iloc[a]\n",
    "    why=Banks['why'].iloc[a]\n",
    "    date=Banks['Date'].iloc[a]\n",
    "    amt=Banks['Amount'].iloc[a]\n",
    "    if poi in ['Amal C','Arjun Maku','dharmendr','jnananshu','Athul'] and why!='Known':\n",
    "        Banks['SubC'].iloc[a]='Loan'\n",
    "        Banks['why'].iloc[a]='Known'\n",
    "    if poi in ['Aashish','Srikanth'] and why!='Known' and date<Badmi_start:\n",
    "        Banks['SubC'].iloc[a]='Loan'\n",
    "        Banks['why'].iloc[a]='Known'\n",
    "    if poi in ['Hari TS'] and why!='Known' and amt>500:\n",
    "        Banks['SubC'].iloc[a]='Loan'\n",
    "        Banks['why'].iloc[a]='Known'\n",
    "    a+=1"
   ]
  },
  {
   "cell_type": "code",
   "execution_count": null,
   "id": "9fcbe172",
   "metadata": {},
   "outputs": [],
   "source": [
    "\"\"\"Movie days\"\"\"\n",
    "Dates=pd.to_datetime(['2021-12-27','2022-03-10','2022-05-16'])\n",
    "Date=pd.to_datetime('2022-03-11')\n",
    "movie_guys=['Aashish','anjita n a','Vishnu V']\n",
    "a=0\n",
    "for a in range(Banks['Date'].count()):\n",
    "    why=Banks['why'].iloc[a]\n",
    "    date=Banks['Date'].iloc[a]\n",
    "    poi=Banks['POI'].iloc[a]\n",
    "    amt=Banks['Amount'].iloc[a]\n",
    "    if date in Dates and why!='Known' and poi in movie_guys:\n",
    "        Banks['SubC'].iloc[a]='Movie'\n",
    "        Banks['why'].iloc[a]='Known'\n",
    "    if date==Date and (amt<-300) and why!='Known' and poi in movie_guys:\n",
    "        Banks['SubC'].iloc[a]='Movie'\n",
    "        Banks['why'].iloc[a]='Known'\n",
    "    a+=1"
   ]
  },
  {
   "cell_type": "code",
   "execution_count": null,
   "id": "54a3dcca",
   "metadata": {},
   "outputs": [],
   "source": [
    "\"\"\"Gift days\"\"\"\n",
    "Aash_bday=pd.to_datetime('2021-11-01')\n",
    "Abhi_bday=pd.to_datetime('2022-03-26')\n",
    "Chechi_bday=pd.to_datetime('2021-12-09')\n",
    "Mah_bday=pd.to_datetime('2021-09-22')\n",
    "PTvava_bday=pd.to_datetime('2022-05-22')\n",
    "AmalC_gift=pd.to_datetime('2021-10-02')\n",
    "Rahul_gift=[pd.to_datetime('2022-01-14')+datetime.timedelta(i) for i in range(3)]\n",
    "\n",
    "Family=['Aashish','anjita n a','Mahesh']\n",
    "Bday=[Aash_bday,Abhi_bday,Chechi_bday,Mah_bday]\n",
    "\n",
    "Gift_day=[]\n",
    "for day in Bday:\n",
    "    for i in range(7):\n",
    "        Gift_day.append(day-datetime.timedelta(i))\n",
    "        i+=1\n",
    "Gift_day.append(AmalC_gift)\n",
    "\n",
    "a=0\n",
    "for a in range(Banks['Date'].count()):\n",
    "    date=Banks['Date'].iloc[a]\n",
    "    amt=Banks['Amount'].iloc[a]\n",
    "    poi=Banks['POI'].iloc[a]\n",
    "    subc=Banks['SubC'].iloc[a]\n",
    "    if date in Gift_day and (amt>500 or amt<-500) and (poi in Family or subc=='Online'):\n",
    "        Banks['SubC'].iloc[a]='Gift'\n",
    "        Banks['why'].iloc[a]='Known'\n",
    "    if date == PTvava_bday and (amt==-100):\n",
    "        Banks['SubC'].iloc[a]='Gift'\n",
    "        Banks['why'].iloc[a]='Known'\n",
    "    if date in Rahul_gift and (poi=='hitesh ta' or subc=='Online'):\n",
    "        Banks['SubC'].iloc[a]='Gift'\n",
    "        Banks['why'].iloc[a]='Known'\n",
    "    a+=1"
   ]
  },
  {
   "cell_type": "code",
   "execution_count": null,
   "id": "60bad048",
   "metadata": {},
   "outputs": [],
   "source": [
    "\"\"\"From Memory\"\"\"\n",
    "a=0\n",
    "for a in range(617):\n",
    "    date=Banks['Date'].iloc[a]\n",
    "    why=Banks['why'].iloc[a]\n",
    "    poi=Banks['POI'].iloc[a]\n",
    "    amt=Banks['Amount'].iloc[a]\n",
    "    if (date == pd.Timestamp('2022-05-21')):\n",
    "        if (why!='Known'):\n",
    "            Banks['SubC'].iloc[a]='Food'\n",
    "            Banks['why'].iloc[a]='Known'\n",
    "    if (date == pd.Timestamp('2022-03-11')):\n",
    "        if (why!='Known') and poi=='anjita n a':\n",
    "            Banks['SubC'].iloc[a]='Gift'\n",
    "            Banks['why'].iloc[a]='Known'\n",
    "    if (poi=='Vishnu V') and (amt>=200 or amt <=-200):\n",
    "        if (why!='Known'):\n",
    "            Banks['SubC'].iloc[a]='Meds'\n",
    "            Banks['why'].iloc[a]='Known'\n",
    "    if (date == pd.Timestamp('2022-03-11')):\n",
    "        if (poi in ['sylviya s','irctc']):\n",
    "            Banks['SubC'].iloc[a]='Trip'\n",
    "            Banks['why'].iloc[a]='Known'\n",
    "    if (date == pd.Timestamp('2021-10-04')):\n",
    "        if (poi=='Amal PT'):\n",
    "            Banks['SubC'].iloc[a]='Food'\n",
    "            Banks['why'].iloc[a]='Known'\n",
    "    a+=1"
   ]
  },
  {
   "cell_type": "code",
   "execution_count": null,
   "id": "a08e4a2d",
   "metadata": {},
   "outputs": [],
   "source": [
    "\"\"\"Badminton Group\"\"\"\n",
    "a=0\n",
    "for a in range(Banks['Date'].count()):\n",
    "    poi=Banks['POI'].iloc[a]\n",
    "    why=Banks['why'].iloc[a]\n",
    "    amt=Banks['Amount'].iloc[a]\n",
    "    if (poi in Badminton) and (why!= 'Known'):\n",
    "        Banks['SubC'].iloc[a]='Badminton'\n",
    "        Banks['why'].iloc[a]='Known'\n",
    "    if poi=='sreerag p' and amt==150:\n",
    "        Banks['SubC'].iloc[a]='Badminton'\n",
    "        Banks['why'].iloc[a]='Known'\n",
    "    a+=1"
   ]
  },
  {
   "cell_type": "code",
   "execution_count": null,
   "id": "f385110f",
   "metadata": {},
   "outputs": [],
   "source": [
    "\"\"\"Netflix Group\"\"\"\n",
    "Netflix=['sreerag p','hitesh ta','Emmanuel','anjita n a']\n",
    "a=0\n",
    "for a in range(Banks['Date'].count()):\n",
    "    poi=Banks['POI'].iloc[a]\n",
    "    why=Banks['why'].iloc[a]\n",
    "    amt=Banks['Amount'].iloc[a]\n",
    "    if poi in Netflix and why!='Known':\n",
    "        if amt<-2000:\n",
    "            Banks['SubC'].iloc[a]='Loan'\n",
    "        else:\n",
    "            Banks['SubC'].iloc[a]='TV'\n",
    "        Banks['why'].iloc[a]='Known'"
   ]
  },
  {
   "cell_type": "code",
   "execution_count": null,
   "id": "3fd1bd6a",
   "metadata": {},
   "outputs": [],
   "source": [
    "\"\"\"Cash from Amma\"\"\"\n",
    "a=0\n",
    "for a in range(Banks['Date'].count()):\n",
    "    poi=Banks['POI'].iloc[a]\n",
    "    why=Banks['why'].iloc[a]\n",
    "    if poi=='Amma' and why!='Known':\n",
    "        Banks['SubC'].iloc[a]='Cash'\n",
    "        Banks['why'].iloc[a]='Known'\n",
    "    a+=1"
   ]
  },
  {
   "cell_type": "code",
   "execution_count": null,
   "id": "3672fac5",
   "metadata": {},
   "outputs": [],
   "source": [
    "Banks.drop(['Desc','why'],axis=1,inplace=True)"
   ]
  },
  {
   "cell_type": "code",
   "execution_count": null,
   "id": "a0703173",
   "metadata": {},
   "outputs": [],
   "source": [
    "\"\"\"Main Categories\"\"\"\n",
    "Banks['Cats']='Unknown'\n",
    "a=0\n",
    "\n",
    "for a in range(Banks['Date'].count()):\n",
    "    subc=Banks['SubC'].iloc[a]\n",
    "    if subc in ['Football','Badminton']:\n",
    "        Banks['Cats'].iloc[a]='Sports'\n",
    "    if subc in ['Movie','Trip','TV','Haircut']:\n",
    "        Banks['Cats'].iloc[a]='Luxury'\n",
    "    if subc in ['Online','Purchase']:\n",
    "        Banks['Cats'].iloc[a]='Purchase'\n",
    "    if subc in ['Exam','Vehicle','Mobile','APY','Others','Jio','Travel']:\n",
    "        Banks['Cats'].iloc[a]='Expense'\n",
    "    if subc in ['Friends','SNVP']:\n",
    "        Banks['Cats'].iloc[a]='Friends'\n",
    "    if subc in ['Interest','Charges','Fund Transfer']:\n",
    "        Banks['Cats'].iloc[a]='Banks'\n",
    "    if subc in ['Fund','Income']:\n",
    "        Banks['Cats'].iloc[a]='Income'\n",
    "    a+=1"
   ]
  },
  {
   "cell_type": "code",
   "execution_count": null,
   "id": "785a2bdd",
   "metadata": {},
   "outputs": [],
   "source": [
    "a=0\n",
    "for a in range(Banks['Date'].count()):\n",
    "    subc=Banks['SubC'].iloc[a]\n",
    "    cat=Banks['Cats'].iloc[a]\n",
    "    if cat=='Unknown':\n",
    "        Banks['Cats'].iloc[a]=subc\n",
    "    a+=1"
   ]
  },
  {
   "cell_type": "code",
   "execution_count": null,
   "id": "bf81d391",
   "metadata": {
    "scrolled": true
   },
   "outputs": [],
   "source": [
    "Banks['Cats'].value_counts()"
   ]
  },
  {
   "cell_type": "code",
   "execution_count": null,
   "id": "697e15af",
   "metadata": {},
   "outputs": [],
   "source": [
    "plt.figure(figsize=(20,12))\n",
    "ax=sns.barplot(data=Banks, x='Cats',y='Amount',estimator=sum,ci=None)\n",
    "for i in ax.containers:\n",
    "    ax.bar_label(i,)\n",
    "plt.savefig('Finances.png')"
   ]
  },
  {
   "cell_type": "code",
   "execution_count": null,
   "id": "33ae14b6",
   "metadata": {},
   "outputs": [],
   "source": [
    "plt.figure(figsize=(20,8))\n",
    "ax=sns.barplot(data=Banks[Banks['Cats']=='Luxury'], x='SubC',y='Amount',estimator=sum,ci=None)\n",
    "for i in ax.containers:\n",
    "    ax.bar_label(i,)\n",
    "plt.savefig('Luxury.png')"
   ]
  },
  {
   "cell_type": "code",
   "execution_count": null,
   "id": "19286855",
   "metadata": {},
   "outputs": [],
   "source": [
    "plt.figure(figsize=(20,8))\n",
    "ax=sns.barplot(data=Banks[Banks['Cats']=='Expense'], x='SubC',y='Amount',estimator=sum,ci=None)\n",
    "for i in ax.containers:\n",
    "    ax.bar_label(i,)\n",
    "plt.savefig('Expenses.png')"
   ]
  },
  {
   "cell_type": "code",
   "execution_count": null,
   "id": "9a3933e8",
   "metadata": {},
   "outputs": [],
   "source": [
    "plt.figure(figsize=(20,8))\n",
    "ax=sns.barplot(data=Banks[Banks['Cats']=='Loan'], x='POI',y='Amount',estimator=sum,ci=None)\n",
    "for i in ax.containers:\n",
    "    ax.bar_label(i,)\n",
    "plt.savefig('Loan.png')"
   ]
  },
  {
   "cell_type": "code",
   "execution_count": null,
   "id": "030a8a62",
   "metadata": {},
   "outputs": [],
   "source": [
    "Banks['Rslt']='Unknown'\n",
    "a=0\n",
    "for a in range(Banks['Date'].count()):\n",
    "    cats=Banks['Cats'].iloc[a]\n",
    "    if cats=='Loan':\n",
    "        Banks['Rslt'].iloc[a]='Loan'\n",
    "    elif cats in ['Income','Banks']:\n",
    "        Banks['Rslt'].iloc[a]='Revenue'\n",
    "    else:\n",
    "        Banks['Rslt'].iloc[a]='Expend'\n",
    "    a+=1"
   ]
  },
  {
   "cell_type": "code",
   "execution_count": null,
   "id": "402ab2e2",
   "metadata": {},
   "outputs": [],
   "source": [
    "plt.figure(figsize=(20,12))\n",
    "ax=sns.barplot(data=Banks, x='Rslt',y='Amount',estimator=sum,ci=None)\n",
    "for i in ax.containers:\n",
    "    ax.bar_label(i,)\n",
    "plt.savefig('Result.png')"
   ]
  },
  {
   "cell_type": "code",
   "execution_count": null,
   "id": "7481fb02",
   "metadata": {},
   "outputs": [],
   "source": [
    "plt.figure(figsize=(20,12))\n",
    "ax=sns.barplot(data=Banks[Banks['Rslt']=='Expend'], x='Cats',y='Amount',estimator=sum,ci=None)\n",
    "for i in ax.containers:\n",
    "    ax.bar_label(i,)\n",
    "plt.savefig('Expenditure.png')"
   ]
  },
  {
   "cell_type": "code",
   "execution_count": null,
   "id": "e971ed03",
   "metadata": {},
   "outputs": [],
   "source": [
    "a=0 \n",
    "ini_idbi=0\n",
    "ini_can=0\n",
    "ini_sbi=0\n",
    "ini_hdfc=0\n",
    "Date=0\n",
    "last=0\n",
    "for a in range(Banks['Date'].count()):\n",
    "    bank=Banks['Bank'].iloc[a]\n",
    "    amt=Banks['Amount'].iloc[a]\n",
    "    date=Banks['Date'].iloc[a]\n",
    "    Bal=Banks['Balance'].iloc[a]\n",
    "    if bank=='CANARA' and ini_can==0:\n",
    "        ini_can=round(Bal-amt,2)\n",
    "        Date=date\n",
    "    if date==Date and bank=='CANARA':\n",
    "        ini_can=round(Bal-amt,2)\n",
    "    if bank=='IDBI' and ini_idbi==0:\n",
    "        ini_idbi=round(Bal-amt,2)\n",
    "    if bank=='HDFC' and ini_hdfc==0:\n",
    "        ini_hdfc=round(Bal-amt,2)\n",
    "    if bank=='SBI' and ini_sbi==0:\n",
    "        ini_sbi=round(Bal-amt,2)\n",
    "    if bank=='CANARA':\n",
    "        if last==0:\n",
    "            fin_can=Bal\n",
    "            last=date\n",
    "        elif date!=last:\n",
    "            fin_can=Bal\n",
    "            last=date\n",
    "        else:\n",
    "            if Bal<fin_can:\n",
    "                fin_can=Bal\n",
    "    if bank=='IDBI':\n",
    "        fin_idbi=Bal\n",
    "    if bank=='HDFC':\n",
    "        fin_hdfc=Bal\n",
    "    if bank=='SBI':\n",
    "        fin_sbi=Bal\n",
    "    a+=1\n",
    "ini_bal=ini_can+ini_sbi+ini_hdfc+ini_idbi\n",
    "fin_bal=fin_can+fin_sbi+fin_hdfc+fin_idbi\n",
    "print(\"CANARA :\\nInitial Balance:  Rs{} \\nFinal Balance:  Rs{}\\nSpend:  {}\".format(ini_can,fin_can,ini_can-fin_can))\n",
    "print(\"IDBI :\\nInitial Balance:  Rs{} \\nFinal Balance:  Rs{}\\nSpend:  {}\".format(ini_idbi,fin_idbi,round(ini_idbi-fin_idbi,2)))\n",
    "print(\"SBI :\\nInitial Balance:  Rs{} \\nFinal Balance:  Rs{}\\nSpend:  {}\".format(ini_sbi,fin_sbi,ini_sbi-fin_sbi))\n",
    "print(\"HDFC :\\nInitial Balance:  Rs{} \\nFinal Balance:  Rs{}\\nSpend:  {}\".format(ini_hdfc,fin_hdfc,round(ini_hdfc-fin_hdfc,2)))\n",
    "print(\"Total :\\nInitial Balance:  Rs{} \\nFinal Balance:  Rs{}\\nSpend:  {}\".format(ini_bal,fin_bal,round(ini_bal-fin_bal,2)))"
   ]
  },
  {
   "cell_type": "code",
   "execution_count": null,
   "id": "0a8452a4",
   "metadata": {},
   "outputs": [],
   "source": [
    "a=0 \n",
    "tot_idbi=0\n",
    "tot_can=0\n",
    "tot_sbi=0\n",
    "tot_hdfc=0\n",
    "for a in range(Banks['Date'].count()):\n",
    "    bank=Banks['Bank'].iloc[a]\n",
    "    amt=Banks['Amount'].iloc[a]\n",
    "    if bank=='CANARA':\n",
    "        tot_can+=amt\n",
    "    if bank=='SBI':\n",
    "        tot_sbi+=amt\n",
    "    if bank=='IDBI':\n",
    "        tot_idbi+=amt\n",
    "    if bank=='HDFC':\n",
    "        tot_hdfc+=amt\n",
    "    a+=1\n",
    "tot=tot_sbi+tot_can+tot_idbi+tot_hdfc\n",
    "print('CANARA: Rs.{}'.format(round(tot_can*-1,2)))\n",
    "print('IDBI: Rs.{}'.format(round(tot_idbi*-1,2)))\n",
    "print('SBI: Rs.{}'.format(round(tot_sbi*-1,2)))\n",
    "print('HDFC: Rs.{}'.format(round(tot_hdfc*-1,2)))\n",
    "print('TOTAL: Rs.{}'.format(round(tot*-1,2)))"
   ]
  },
  {
   "cell_type": "code",
   "execution_count": null,
   "id": "6204a1ff",
   "metadata": {},
   "outputs": [],
   "source": []
  }
 ],
 "metadata": {
  "kernelspec": {
   "display_name": "Python 3.9.7 ('base')",
   "language": "python",
   "name": "python3"
  },
  "language_info": {
   "codemirror_mode": {
    "name": "ipython",
    "version": 3
   },
   "file_extension": ".py",
   "mimetype": "text/x-python",
   "name": "python",
   "nbconvert_exporter": "python",
   "pygments_lexer": "ipython3",
   "version": "3.9.7"
  },
  "vscode": {
   "interpreter": {
    "hash": "610a6f344c2137faf927ea819c63f6cee33a2c04455044b28099f39fe9722347"
   }
  }
 },
 "nbformat": 4,
 "nbformat_minor": 5
}
